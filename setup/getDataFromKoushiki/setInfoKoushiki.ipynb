{
 "cells": [
  {
   "cell_type": "code",
   "execution_count": 3,
   "metadata": {},
   "outputs": [],
   "source": [
    "#\n",
    "import json\n",
    "import re\n",
    "import unicodedata\n",
    "\n",
    "import pymysql\n",
    "import getInfoKoushiki\n"
   ]
  },
  {
   "cell_type": "code",
   "execution_count": null,
   "metadata": {},
   "outputs": [],
   "source": [
    "def setRaceManagementKoushiki(dbh,raceDate):\n",
    "    with dbh.cursor() as cursor:\n",
    "        for ret in getInfoKoushiki.getRaceManagementKoushiki(raceDate):\n",
    "            #racemanagementをここでは整備する。\n",
    "            sel_sql=\"SELECT count(*) FROM racemanagement WHERE raceid='%s'\" % (ret[0])\n",
    "            cursor.execute(sel_sql)\n",
    "            results=cursor.fetchone()\n",
    "        \n",
    "            if results['count(*)']== 0: #なければINSERT\n",
    "                ins_sql=\"INSERT INTO racemanagement (raceId,raceDate,raceNumber,raceGrade,racePlaceId,racebeforeinfo_flg,racemember_flg,raceodds3t_flg,raceodds3f_flg,raceodds2t_flg,raceodds2f_flg,raceodds1t_flg,raceodds1f_flg,raceresult_flg) VALUES ('%s' ,'%s',%d,'%s','%s',FALSE,FALSE,FALSE,FALSE,FALSE,FALSE,FALSE,FALSE,FALSE)\" % (ret[0],ret[1],ret[2],ret[4],ret[5])\n",
    "                #print(ins_sql)\n",
    "                cursor.execute(ins_sql)\n",
    "        dbh.commit()\n",
    "    "
   ]
  }
 ],
 "metadata": {
  "kernelspec": {
   "display_name": "Python 3",
   "language": "python",
   "name": "python3"
  },
  "language_info": {
   "codemirror_mode": {
    "name": "ipython",
    "version": 3
   },
   "file_extension": ".py",
   "mimetype": "text/x-python",
   "name": "python",
   "nbconvert_exporter": "python",
   "pygments_lexer": "ipython3",
   "version": "3.6.8"
  }
 },
 "nbformat": 4,
 "nbformat_minor": 2
}
