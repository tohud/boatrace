{
 "cells": [
  {
   "cell_type": "code",
   "execution_count": 6,
   "metadata": {},
   "outputs": [],
   "source": [
    "# オッズの分布の特徴を見る\n",
    "# クラスタリングしてみる\n",
    "\n",
    "import os\n",
    "import json\n",
    "import pymysql\n",
    "import matplotlib.pyplot as plt"
   ]
  },
  {
   "cell_type": "code",
   "execution_count": 7,
   "metadata": {},
   "outputs": [],
   "source": [
    "# mySQLへの接続設定\n",
    "with open(os.environ['BR_HOME']+'/config_nogit/mysqlUser.json') as mysqlconfig:\n",
    "    mysqlConfig=json.load(mysqlconfig)\n",
    "\n",
    "dbh=pymysql.connect(\n",
    "    host='localhost',\n",
    "    user=mysqlConfig['user'],\n",
    "    password=mysqlConfig['password'],\n",
    "    db='boatrace',\n",
    "    charset='utf8',\n",
    "    cursorclass=pymysql.cursors.DictCursor\n",
    ")\n"
   ]
  },
  {
   "cell_type": "code",
   "execution_count": 12,
   "metadata": {},
   "outputs": [
    {
     "name": "stdout",
     "output_type": "stream",
     "text": [
      "[{'funaken': '4-1-3', 'odds': 10.1}, {'funaken': '4-1-2', 'odds': 12.1}, {'funaken': '1-4-3', 'odds': 13.1}, {'funaken': '1-4-2', 'odds': 15.6}, {'funaken': '4-3-1', 'odds': 17.1}, {'funaken': '1-3-4', 'odds': 19.3}, {'funaken': '4-1-6', 'odds': 20.8}, {'funaken': '4-2-1', 'odds': 22.0}, {'funaken': '1-4-6', 'odds': 25.3}, {'funaken': '1-2-4', 'odds': 27.2}, {'funaken': '4-2-3', 'odds': 28.6}, {'funaken': '4-3-2', 'odds': 30.5}, {'funaken': '3-4-1', 'odds': 34.9}, {'funaken': '4-3-6', 'odds': 34.9}, {'funaken': '3-1-4', 'odds': 35.8}, {'funaken': '2-4-1', 'odds': 37.8}, {'funaken': '1-3-2', 'odds': 45.4}, {'funaken': '1-2-3', 'odds': 47.0}, {'funaken': '2-1-4', 'odds': 48.7}, {'funaken': '1-3-6', 'odds': 50.8}, {'funaken': '2-4-3', 'odds': 51.7}, {'funaken': '4-6-1', 'odds': 52.8}, {'funaken': '4-2-6', 'odds': 53.2}, {'funaken': '3-4-6', 'odds': 53.6}, {'funaken': '3-4-2', 'odds': 57.5}, {'funaken': '4-6-3', 'odds': 61.8}, {'funaken': '1-6-4', 'odds': 74.4}, {'funaken': '3-1-6', 'odds': 76.8}, {'funaken': '3-6-4', 'odds': 79.0}, {'funaken': '4-6-2', 'odds': 79.9}, {'funaken': '3-2-4', 'odds': 83.1}, {'funaken': '2-1-3', 'odds': 84.3}, {'funaken': '2-3-4', 'odds': 85.2}, {'funaken': '2-4-6', 'odds': 87.2}, {'funaken': '3-1-2', 'odds': 91.4}, {'funaken': '1-2-6', 'odds': 98.8}, {'funaken': '4-1-5', 'odds': 100.7}, {'funaken': '1-6-3', 'odds': 101.0}, {'funaken': '3-6-1', 'odds': 104.7}, {'funaken': '3-2-1', 'odds': 125.0}, {'funaken': '3-6-2', 'odds': 129.0}, {'funaken': '1-4-5', 'odds': 130.1}, {'funaken': '2-3-1', 'odds': 134.3}, {'funaken': '3-2-6', 'odds': 143.7}, {'funaken': '1-6-2', 'odds': 146.6}, {'funaken': '2-1-6', 'odds': 148.6}, {'funaken': '6-4-1', 'odds': 167.9}, {'funaken': '6-4-3', 'odds': 181.0}, {'funaken': '6-3-4', 'odds': 184.2}, {'funaken': '2-3-6', 'odds': 199.6}, {'funaken': '4-3-5', 'odds': 205.7}, {'funaken': '2-6-4', 'odds': 206.8}, {'funaken': '1-3-5', 'odds': 210.3}, {'funaken': '6-3-1', 'odds': 210.3}, {'funaken': '4-2-5', 'odds': 219.7}, {'funaken': '6-4-2', 'odds': 230.6}, {'funaken': '1-2-5', 'odds': 238.8}, {'funaken': '6-1-4', 'odds': 239.6}, {'funaken': '2-6-3', 'odds': 244.3}, {'funaken': '4-5-1', 'odds': 250.1}, {'funaken': '3-1-5', 'odds': 252.7}, {'funaken': '6-2-4', 'odds': 283.7}, {'funaken': '6-3-2', 'odds': 287.0}, {'funaken': '2-6-1', 'odds': 295.0}, {'funaken': '1-5-4', 'odds': 303.4}, {'funaken': '6-1-3', 'odds': 308.5}, {'funaken': '4-6-5', 'odds': 312.4}, {'funaken': '2-4-5', 'odds': 317.8}, {'funaken': '2-1-5', 'odds': 336.6}, {'funaken': '6-2-1', 'odds': 356.0}, {'funaken': '6-2-3', 'odds': 357.7}, {'funaken': '3-4-5', 'odds': 359.4}, {'funaken': '3-6-5', 'odds': 375.8}, {'funaken': '5-4-1', 'odds': 387.7}, {'funaken': '4-5-6', 'odds': 391.8}, {'funaken': '4-5-3', 'odds': 409.1}, {'funaken': '1-6-5', 'odds': 416.0}, {'funaken': '1-5-3', 'odds': 433.0}, {'funaken': '5-3-1', 'odds': 454.3}, {'funaken': '4-5-2', 'odds': 459.9}, {'funaken': '6-1-2', 'odds': 500.3}, {'funaken': '5-2-1', 'odds': 507.2}, {'funaken': '1-5-2', 'odds': 525.1}, {'funaken': '3-2-5', 'odds': 597.1}, {'funaken': '1-5-6', 'odds': 679.3}, {'funaken': '5-1-3', 'odds': 685.6}, {'funaken': '3-5-1', 'odds': 718.9}, {'funaken': '3-5-6', 'odds': 763.4}, {'funaken': '2-3-5', 'odds': 787.7}, {'funaken': '5-1-4', 'odds': 787.7}, {'funaken': '2-5-1', 'odds': 841.5}, {'funaken': '3-5-4', 'odds': 851.1}, {'funaken': '2-5-4', 'odds': 1000.0}, {'funaken': '6-3-5', 'odds': 1000.0}, {'funaken': '5-4-2', 'odds': 1122.0}, {'funaken': '5-1-2', 'odds': 1175.0}, {'funaken': '5-2-4', 'odds': 1194.0}, {'funaken': '5-4-6', 'odds': 1194.0}, {'funaken': '3-5-2', 'odds': 1213.0}, {'funaken': '6-4-5', 'odds': 1276.0}, {'funaken': '2-6-5', 'odds': 1322.0}, {'funaken': '2-5-3', 'odds': 1346.0}, {'funaken': '5-1-6', 'odds': 1346.0}, {'funaken': '5-4-3', 'odds': 1424.0}, {'funaken': '5-2-6', 'odds': 1511.0}, {'funaken': '5-6-4', 'odds': 1609.0}, {'funaken': '6-2-5', 'odds': 1609.0}, {'funaken': '5-3-2', 'odds': 1645.0}, {'funaken': '5-6-3', 'odds': 1645.0}, {'funaken': '5-6-2', 'odds': 1683.0}, {'funaken': '2-5-6', 'odds': 1806.0}, {'funaken': '6-1-5', 'odds': 1806.0}, {'funaken': '5-3-4', 'odds': 1851.0}, {'funaken': '5-3-6', 'odds': 1851.0}, {'funaken': '6-5-3', 'odds': 1851.0}, {'funaken': '5-6-1', 'odds': 2001.0}, {'funaken': '6-5-2', 'odds': 2001.0}, {'funaken': '6-5-4', 'odds': 2001.0}, {'funaken': '5-2-3', 'odds': 2468.0}, {'funaken': '6-5-1', 'odds': 2962.0}]\n"
     ]
    }
   ],
   "source": [
    "def selectOdds3tByRaceId(raceId):\n",
    "    with dbh.cursor() as cursor:\n",
    "        sel_sql=\"SELECT funaken,odds FROM raceodds WHERE raceid='%s' and oddsType='3t' order by odds\" % (raceId)\n",
    "        cursor.execute(sel_sql)\n",
    "        results=cursor.fetchall()\n",
    "        #print(results)\n",
    "        \n",
    "raceId='20190321-01-01'\n",
    "selectOdds3tByRaceId(raceId)\n",
    "        "
   ]
  },
  {
   "cell_type": "code",
   "execution_count": null,
   "metadata": {},
   "outputs": [],
   "source": [
    "# オッズの正確性を見てみる\n",
    "def\n"
   ]
  }
 ],
 "metadata": {
  "kernelspec": {
   "display_name": "Python 3",
   "language": "python",
   "name": "python3"
  },
  "language_info": {
   "codemirror_mode": {
    "name": "ipython",
    "version": 3
   },
   "file_extension": ".py",
   "mimetype": "text/x-python",
   "name": "python",
   "nbconvert_exporter": "python",
   "pygments_lexer": "ipython3",
   "version": "3.6.8"
  }
 },
 "nbformat": 4,
 "nbformat_minor": 2
}
