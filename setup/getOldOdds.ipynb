{
 "cells": [
  {
   "cell_type": "code",
   "execution_count": 1,
   "metadata": {},
   "outputs": [
    {
     "name": "stdout",
     "output_type": "stream",
     "text": [
      "['/home/ec2-user/.pyenv/versions/anaconda3-2018.12/lib/python36.zip', '/home/ec2-user/.pyenv/versions/anaconda3-2018.12/lib/python3.6', '/home/ec2-user/.pyenv/versions/anaconda3-2018.12/lib/python3.6/lib-dynload', '', '/home/ec2-user/.pyenv/versions/anaconda3-2018.12/lib/python3.6/site-packages', '/home/ec2-user/.pyenv/versions/anaconda3-2018.12/lib/python3.6/site-packages/IPython/extensions', '/home/ec2-user/.ipython']\n"
     ]
    }
   ],
   "source": [
    "# 公式からとってくる。\n",
    "# レースリスト、レースの参加メンバー、直前のオッズリストをESに突っ込む\n",
    "# https://www.boatrace.jp/owpc/pc/race/index?hd=%s\n",
    "# http://odds.kyotei24.jp/\n",
    "# mySQL接続用のユーザ、パスワードは $BR_HOME/config_nogit/mysqlUser.json\n",
    "\n",
    "# ToDO raceinfoをとっておく\n",
    "# ToDo 日付を期間指定にする\n",
    "# ToDo テーブル間のリコンサイルをする\n",
    "\n",
    "import os\n",
    "from bs4 import BeautifulSoup\n",
    "import json\n",
    "import urllib.request as u\n",
    "import time\n",
    "import re\n",
    "import elasticsearch as es\n",
    "\n",
    "import unicodedata\n",
    "\n",
    "import pymysql\n",
    "from getDataFromKoushiki import getInfoKoushiki\n",
    "#from getDataFromKoushiki import setInfoKoushiki\n",
    "from myUtil import dbHandler"
   ]
  },
  {
   "cell_type": "code",
   "execution_count": 41,
   "metadata": {},
   "outputs": [
    {
     "name": "stdout",
     "output_type": "stream",
     "text": [
      "/home/ec2-user/kaggle/google-analytics-customer-revenue-prediction\n",
      "/home/ec2-user/boatrace\n"
     ]
    }
   ],
   "source": [
    "print(os.environ['GACRP_HOME'])\n",
    "print(os.environ['BR_HOME'])"
   ]
  },
  {
   "cell_type": "code",
   "execution_count": 42,
   "metadata": {},
   "outputs": [],
   "source": [
    "dbh=dbHandler.getDBHandle()"
   ]
  },
  {
   "cell_type": "code",
   "execution_count": 43,
   "metadata": {},
   "outputs": [],
   "source": [
    "#dbHandler.closeDBHandle(dbh)"
   ]
  },
  {
   "cell_type": "code",
   "execution_count": 44,
   "metadata": {},
   "outputs": [
    {
     "name": "stdout",
     "output_type": "stream",
     "text": [
      "01 桐生\n"
     ]
    }
   ],
   "source": [
    "#　会場とplaceIdとの紐づけファイルをロード。たぶん使わない。\n",
    "with open('../config/def-place.json','r',encoding='utf8') as defPlace:\n",
    "    placeDict=json.load(defPlace)\n",
    "print(placeDict[0]['placeId'],placeDict[0]['placeName'])\n",
    "#for i in range(len(placeDict)):\n",
    "#    print(\"|\"+placeDict[i]['placeId']+\"|\"+placeDict[i]['placeName']+\"|\")"
   ]
  },
  {
   "cell_type": "code",
   "execution_count": 45,
   "metadata": {},
   "outputs": [],
   "source": [
    "raceDate=\"20190322\""
   ]
  },
  {
   "cell_type": "code",
   "execution_count": null,
   "metadata": {},
   "outputs": [],
   "source": []
  },
  {
   "cell_type": "code",
   "execution_count": 46,
   "metadata": {},
   "outputs": [],
   "source": [
    "# レースの一覧を取得し、足りないracemanegementを作る。\n",
    "\n",
    "with dbh.cursor() as cursor:\n",
    "    for ret in getInfoKoushiki.getRaceManagementKoushiki(raceDate):\n",
    "        #racemanagementをここでは整備する。\n",
    "        sel_sql=\"SELECT count(*) FROM racemanagement WHERE raceid='%s'\" % (ret[0])\n",
    "        cursor.execute(sel_sql)\n",
    "        results=cursor.fetchone()\n",
    "        \n",
    "        if results['count(*)']== 0: #なければINSERT\n",
    "            ins_sql=\"INSERT INTO racemanagement (raceId,raceDate,raceNumber,raceGrade,racePlaceId,racebeforeinfo_flg,racemember_flg,raceodds3t_flg,raceodds3f_flg,raceodds2t_flg,raceodds2f_flg,raceodds1t_flg,raceodds1f_flg,raceresult_flg) VALUES ('%s' ,'%s',%d,'%s','%s',FALSE,FALSE,FALSE,FALSE,FALSE,FALSE,FALSE,FALSE,FALSE)\" % (ret[0],ret[1],ret[2],ret[4],ret[5])\n",
    "            #print(ins_sql)\n",
    "            cursor.execute(ins_sql)\n",
    "    dbh.commit()"
   ]
  },
  {
   "cell_type": "code",
   "execution_count": 47,
   "metadata": {
    "scrolled": true
   },
   "outputs": [],
   "source": [
    "# racemanegementをもとに、レースの直前情報を取得する。\n",
    "# ただし、beforeinfoはレースで一意の情報（Weather）と、メンバーごとの情報をわける。\n",
    "dbh.rollback()\n",
    "with dbh.cursor() as cursor:\n",
    "    #racemanagementで、racememberが未取得になっていたら取得してフラグをtrueにする。\n",
    "    sel_sql = \"SELECT raceId FROM racemanagement WHERE raceDate='%s' and racebeforeinfo_flg = FALSE\" % (raceDate)\n",
    "    cursor.execute(sel_sql)\n",
    "    raceIdList=cursor.fetchall()\n",
    "    for raceIdhash in raceIdList:\n",
    "        raceId = raceIdhash['raceId']\n",
    "        print(raceId)        \n",
    "        with dbh.cursor() as ins_cursor:\n",
    "            for ret in getInfoKoushiki.getRaceBeforeInfoWeatherKoushiki(raceId):\n",
    "                print(ret)\n",
    "                ins_sql=\"INSERT INTO racebeforeinfo (raceId,raceTemperature,raceWeather,raceWindSpeed,raceSurfaceTemperature,raceWaveHeight) VALUES ('%s' ,%f,'%s','%f','%f','%d')\" % (raceId,float(ret[0]),ret[1],float(ret[2]),float(ret[3]),int(ret[4]) )\n",
    "                #print(ins_sql)\n",
    "                ins_cursor.execute(ins_sql)\n",
    "            upd_sql=\"UPDATE racemanagement SET racebeforeinfo_flg = TRUE where raceId ='%s'\" % (raceId)\n",
    "            ins_cursor.execute(upd_sql)\n",
    "            dbh.commit()\n"
   ]
  },
  {
   "cell_type": "code",
   "execution_count": 48,
   "metadata": {
    "scrolled": true
   },
   "outputs": [],
   "source": [
    "dbh.rollback()\n",
    "with dbh.cursor() as cursor:\n",
    "    #racemanagementで、racememberが未取得になっていたら取得してフラグをtrueにする。\n",
    "    sel_sql = \"SELECT raceId FROM racemanagement WHERE raceDate='%s' and racemember_flg = FALSE\" % (raceDate)\n",
    "    cursor.execute(sel_sql)\n",
    "    raceIdList=cursor.fetchall()\n",
    "    for raceIdhash in raceIdList:\n",
    "        raceId = raceIdhash['raceId']\n",
    "        print(raceId)\n",
    "        with dbh.cursor() as ins_cursor:\n",
    "            for ret in getInfoKoushiki.getRaceMemberKoushiki(raceId):\n",
    "                #print(ret)\n",
    "                ins_sql=\"INSERT INTO racemember (raceId,rmLane,rmToban,rmRank) VALUES ('%s' ,%d,'%s','%s')\" % (raceId,int(ret[0]),ret[1],ret[2])\n",
    "                #print(ins_sql)\n",
    "                ins_cursor.execute(ins_sql)\n",
    "            upd_sql=\"UPDATE racemanagement SET racemember_flg = TRUE where raceId ='%s'\" % (raceId)\n",
    "            ins_cursor.execute(upd_sql)\n",
    "            dbh.commit()\n"
   ]
  },
  {
   "cell_type": "code",
   "execution_count": null,
   "metadata": {},
   "outputs": [],
   "source": []
  },
  {
   "cell_type": "code",
   "execution_count": 49,
   "metadata": {
    "scrolled": true
   },
   "outputs": [],
   "source": [
    "   \n",
    "dbh.rollback()\n",
    "\n",
    "with dbh.cursor() as cursor:\n",
    "    #racemanagementで3連単のオッズを埋める\n",
    "    sel_sql = \"SELECT raceId FROM racemanagement WHERE raceDate='%s' and raceodds3t_flg = FALSE\" % (raceDate)\n",
    "    cursor.execute(sel_sql)\n",
    "    raceIdList=cursor.fetchall()\n",
    "    for raceIdhash in raceIdList:\n",
    "        raceId = raceIdhash['raceId']\n",
    "        print(raceId)\n",
    "        with dbh.cursor() as ins_cursor:\n",
    "            for ret in getInfoKoushiki.getOldOddsKoushiki3rentan(raceId):\n",
    "                #print(ret)\n",
    "                if ret[1] == '欠場':\n",
    "                    print('[SKIP]欠場 at 3連単オッズ取得 raceId:'+raceId)\n",
    "                else:\n",
    "                    ins_sql=\"INSERT INTO raceodds (raceId,oddsType,funaken,odds) VALUES ('%s' ,'3t','%s','%s')\" % (raceId,ret[0],ret[1])\n",
    "                    ins_cursor.execute(ins_sql)\n",
    "            upd_sql = \"UPDATE racemanagement SET raceodds3t_flg = TRUE where raceId ='%s'\" % (raceId)\n",
    "            ins_cursor.execute(upd_sql)\n",
    "            dbh.commit()"
   ]
  },
  {
   "cell_type": "code",
   "execution_count": 50,
   "metadata": {
    "scrolled": true
   },
   "outputs": [],
   "source": [
    "\n",
    "#raceId=\"20190321-01-01\"\n",
    "dbh.rollback()\n",
    "\n",
    "with dbh.cursor() as cursor:\n",
    "    #racemanagementで3連複のオッズを埋める\n",
    "    sel_sql = \"SELECT raceId FROM racemanagement WHERE raceDate='%s' and raceodds3f_flg = FALSE\" % (raceDate)\n",
    "    cursor.execute(sel_sql)\n",
    "    raceIdList=cursor.fetchall()\n",
    "    for raceIdhash in raceIdList:\n",
    "        raceId = raceIdhash['raceId']\n",
    "        print(raceId)\n",
    "        with dbh.cursor() as ins_cursor:\n",
    "            for ret in getInfoKoushiki.getOldOddsKoushiki3renfuku(raceId):\n",
    "                #print(ret)\n",
    "                if ret[1] == '欠場':\n",
    "                    print('[SKIP]欠場 at 3連複オッズ取得 raceId:'+raceId)\n",
    "                else:\n",
    "                    ins_sql=\"INSERT INTO raceodds (raceId,oddsType,funaken,odds) VALUES ('%s' ,'3f','%s','%s')\" % (raceId,ret[0],ret[1])\n",
    "                    ins_cursor.execute(ins_sql)\n",
    "            upd_sql = \"UPDATE racemanagement SET raceodds3f_flg = TRUE where raceId ='%s'\" % (raceId)\n",
    "            ins_cursor.execute(upd_sql)\n",
    "            dbh.commit()\n",
    "\n"
   ]
  },
  {
   "cell_type": "code",
   "execution_count": 51,
   "metadata": {
    "scrolled": true
   },
   "outputs": [],
   "source": [
    "#raceId=\"20190321-01-01\"\n",
    "dbh.rollback()\n",
    "\n",
    "with dbh.cursor() as cursor:\n",
    "    #racemanagementで2連単のオッズを埋める\n",
    "    sel_sql = \"SELECT raceId FROM racemanagement WHERE raceDate='%s' and raceodds2t_flg = FALSE\" % (raceDate)\n",
    "    cursor.execute(sel_sql)\n",
    "    raceIdList=cursor.fetchall()\n",
    "    for raceIdhash in raceIdList:\n",
    "        raceId = raceIdhash['raceId']\n",
    "        print(raceId)\n",
    "        with dbh.cursor() as ins_cursor:\n",
    "            for ret in getInfoKoushiki.getOldOddsKoushiki2rentan(raceId):\n",
    "                #print(ret)\n",
    "                if ret[1] == '欠場':\n",
    "                    print('[SKIP]欠場 at 2連単オッズ取得 raceId:'+raceId)\n",
    "                else:\n",
    "                    ins_sql=\"INSERT INTO raceodds (raceId,oddsType,funaken,odds) VALUES ('%s' ,'2t','%s','%s')\" % (raceId,ret[0],ret[1])\n",
    "                    ins_cursor.execute(ins_sql)\n",
    "            upd_sql = \"UPDATE racemanagement SET raceodds2t_flg = TRUE where raceId ='%s'\" % (raceId)\n",
    "            ins_cursor.execute(upd_sql)\n",
    "            dbh.commit()\n",
    "    \n"
   ]
  },
  {
   "cell_type": "code",
   "execution_count": 52,
   "metadata": {
    "scrolled": true
   },
   "outputs": [],
   "source": [
    "#raceId=\"20190321-01-01\"\n",
    "#for ret in getOldOddsKoushiki2renfuku(raceId):\n",
    "#    print(ret)\n",
    "\n",
    "dbh.rollback()\n",
    "\n",
    "with dbh.cursor() as cursor:\n",
    "    #racemanagementで2連複のオッズを埋める\n",
    "    sel_sql = \"SELECT raceId FROM racemanagement WHERE raceDate='%s' and raceodds2f_flg = FALSE\" % (raceDate)\n",
    "    cursor.execute(sel_sql)\n",
    "    raceIdList=cursor.fetchall()\n",
    "    for raceIdhash in raceIdList:\n",
    "        raceId = raceIdhash['raceId']\n",
    "        print(raceId)\n",
    "        with dbh.cursor() as ins_cursor:\n",
    "            for ret in getInfoKoushiki.getOldOddsKoushiki2renfuku(raceId):\n",
    "                #print(ret)\n",
    "                if ret[1] == '欠場':\n",
    "                    print('[SKIP]欠場 at 2連複オッズ取得 raceId:'+raceId)\n",
    "                else:\n",
    "                    ins_sql=\"INSERT INTO raceodds (raceId,oddsType,funaken,odds) VALUES ('%s' ,'2f','%s','%s')\" % (raceId,ret[0],ret[1])\n",
    "                    ins_cursor.execute(ins_sql)\n",
    "            upd_sql = \"UPDATE racemanagement SET raceodds2f_flg = TRUE where raceId ='%s'\" % (raceId)\n",
    "            ins_cursor.execute(upd_sql)\n",
    "            dbh.commit()\n",
    "\n"
   ]
  },
  {
   "cell_type": "code",
   "execution_count": 53,
   "metadata": {
    "scrolled": true
   },
   "outputs": [],
   "source": [
    "#raceId=\"20190321-01-01\"\n",
    "#for ret in getOldOddsKoushikiTansho(raceId):\n",
    "#    print(ret)\n",
    "\n",
    "dbh.rollback()\n",
    "\n",
    "with dbh.cursor() as cursor:\n",
    "    #racemanagementで単勝のオッズを埋める\n",
    "    sel_sql = \"SELECT raceId FROM racemanagement WHERE raceDate='%s' and raceodds1t_flg = FALSE\" % (raceDate)\n",
    "    cursor.execute(sel_sql)\n",
    "    raceIdList=cursor.fetchall()\n",
    "    for raceIdhash in raceIdList:\n",
    "        raceId = raceIdhash['raceId']\n",
    "        print(raceId)\n",
    "        with dbh.cursor() as ins_cursor:\n",
    "            for ret in getInfoKoushiki.getOldOddsKoushikiTansho(raceId):\n",
    "                #print(ret)\n",
    "                if ret[1] == '欠場':\n",
    "                    print('[SKIP]欠場 at 単勝オッズ取得 raceId:'+raceId)\n",
    "                else:\n",
    "                    ins_sql=\"INSERT INTO raceodds (raceId,oddsType,funaken,odds) VALUES ('%s' ,'1t','%s','%s')\" % (raceId,ret[0],ret[1])\n",
    "                    ins_cursor.execute(ins_sql)\n",
    "            upd_sql = \"UPDATE racemanagement SET raceodds1t_flg = TRUE where raceId ='%s'\" % (raceId)\n",
    "            ins_cursor.execute(upd_sql)\n",
    "            dbh.commit()\n",
    "\n",
    "            "
   ]
  },
  {
   "cell_type": "code",
   "execution_count": null,
   "metadata": {},
   "outputs": [],
   "source": []
  },
  {
   "cell_type": "code",
   "execution_count": 54,
   "metadata": {},
   "outputs": [],
   "source": [
    "dbh.rollback()\n",
    "\n",
    "with dbh.cursor() as cursor:\n",
    "    sel_sql = \"SELECT raceId FROM racemanagement WHERE raceDate='%s' and raceresult_flg = FALSE\" % (raceDate)\n",
    "    cursor.execute(sel_sql)\n",
    "    raceIdList=cursor.fetchall()\n",
    "    for raceIdhash in raceIdList:\n",
    "        raceId = raceIdhash['raceId']\n",
    "        print(raceId)\n",
    "        with dbh.cursor() as ins_cursor:\n",
    "            for ret in getInfoKoushiki.getOldOddsKoushikiResult(raceId):\n",
    "                ins_sql=\"INSERT INTO raceresult (raceId,goalRank,lane,toban,startTime,goalTime) VALUES ('%s' ,%d, %d, '%s',%f,%f)\" % (raceId,ret[0],ret[1],ret[2],ret[3],ret[4])\n",
    "                ins_cursor.execute(ins_sql)\n",
    "            upd_sql = \"UPDATE racemanagement SET raceresult_flg = TRUE where raceId ='%s'\" % (raceId)\n",
    "            ins_cursor.execute(upd_sql)\n",
    "            dbh.commit()\n",
    "\n"
   ]
  },
  {
   "cell_type": "code",
   "execution_count": null,
   "metadata": {},
   "outputs": [],
   "source": []
  }
 ],
 "metadata": {
  "kernelspec": {
   "display_name": "Python 3",
   "language": "python",
   "name": "python3"
  },
  "language_info": {
   "codemirror_mode": {
    "name": "ipython",
    "version": 3
   },
   "file_extension": ".py",
   "mimetype": "text/x-python",
   "name": "python",
   "nbconvert_exporter": "python",
   "pygments_lexer": "ipython3",
   "version": "3.6.8"
  }
 },
 "nbformat": 4,
 "nbformat_minor": 2
}
