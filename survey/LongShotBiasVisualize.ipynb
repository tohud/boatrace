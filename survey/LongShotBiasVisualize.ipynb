{
 "cells": [
  {
   "cell_type": "code",
   "execution_count": 1,
   "metadata": {},
   "outputs": [],
   "source": [
    "# ToDo LGBMの成果を評価するために、オッズ帯別の回収率を見てみる。\n",
    "\n",
    "# 汎用ライブラリのimport\n",
    "import sys\n",
    "import os\n",
    "import math\n",
    "from matplotlib import pyplot as plt\n",
    "import pandas as pd\n",
    "import numpy as np"
   ]
  },
  {
   "cell_type": "code",
   "execution_count": 2,
   "metadata": {},
   "outputs": [],
   "source": [
    "# 自作ライブラリのimport\n",
    "if os.environ['BR_HOME']+\"/boatrace\" not in sys.path:\n",
    "    sys.path.append(os.environ['BR_HOME']+\"/boatrace\")\n",
    "#print(sys.path)\n",
    "\n",
    "from setup.myUtil import dbHandler"
   ]
  },
  {
   "cell_type": "code",
   "execution_count": 3,
   "metadata": {},
   "outputs": [],
   "source": [
    "# 分析期間の指定は一旦ここでまとめてみる。\n",
    "analyzeStartDate=\"20180101\"\n",
    "analyzeEndDate=\"20190131\""
   ]
  },
  {
   "cell_type": "code",
   "execution_count": 4,
   "metadata": {},
   "outputs": [],
   "source": [
    "dbh=dbHandler.getDBHandle()"
   ]
  },
  {
   "cell_type": "code",
   "execution_count": 5,
   "metadata": {},
   "outputs": [
    {
     "name": "stdout",
     "output_type": "stream",
     "text": [
      "20180101-06-01\n"
     ]
    }
   ],
   "source": [
    "# 疎通\n",
    "raceDate_t = \"20180101\"\n",
    "with dbh.cursor() as cursor:\n",
    "    sel_sql = \"SELECT raceId FROM racemanagement \\\n",
    "               WHERE raceDate='%s' and racebeforeinfo_flg = TRUE\" \\\n",
    "                % (raceDate_t)\n",
    "    cursor.execute(sel_sql)\n",
    "    raceIdList=cursor.fetchall()\n",
    "    print(raceIdList[0]['raceId'])"
   ]
  },
  {
   "cell_type": "code",
   "execution_count": 6,
   "metadata": {},
   "outputs": [
    {
     "name": "stdout",
     "output_type": "stream",
     "text": [
      "1.0\n",
      "1.3459559821377662\n",
      "1.8115975058524387\n",
      "2.4383305002279467\n",
      "3.2818855232107764\n",
      "4.417273452656877\n",
      "5.945455628341869\n",
      "8.002321569501389\n",
      "10.770772587460472\n",
      "14.496985796337892\n",
      "19.51230475554721\n",
      "26.26270331102395\n",
      "35.34844262858201\n",
      "47.57744781519357\n",
      "64.03715050170716\n",
      "86.19118579682926\n",
      "116.00954213078997\n",
      "156.14373721599992\n",
      "210.1625971792226\n",
      "282.8696048949842\n",
      "380.7300368733502\n",
      "512.4458707092183\n",
      "689.7295852028684\n",
      "928.3456612612006\n",
      "1249.512396266154\n",
      "1681.7886845097246\n",
      "2263.6135406074673\n",
      "3046.724186228672\n",
      "4100.7566443782935\n",
      "5519.437936792159\n",
      "7428.920509063541\n"
     ]
    }
   ],
   "source": [
    "# オッズ帯は対数分布から作る。何段階にするかを指定する\n",
    "oddsRankNum = 31\n",
    "maxOddsVal = 9999\n",
    "logMaxOddsVal=math.log(maxOddsVal)\n",
    "oddsRankList=[]\n",
    "for i in range(oddsRankNum):\n",
    "    print( math.exp(logMaxOddsVal/oddsRankNum*i) )\n",
    "    oddsRankList.append(math.exp(logMaxOddsVal/oddsRankNum*i))"
   ]
  },
  {
   "cell_type": "code",
   "execution_count": 7,
   "metadata": {},
   "outputs": [
    {
     "name": "stdout",
     "output_type": "stream",
     "text": [
      "select count(CASE WHEN o.odds between 1.000000 and 1.345956 THEN 1 END ) rank1 ,count(CASE WHEN o.odds between 1.345956 and 1.811598 THEN 1 END ) rank2 ,count(CASE WHEN o.odds between 1.811598 and 2.438331 THEN 1 END ) rank3 ,count(CASE WHEN o.odds between 2.438331 and 3.281886 THEN 1 END ) rank4 ,count(CASE WHEN o.odds between 3.281886 and 4.417273 THEN 1 END ) rank5 ,count(CASE WHEN o.odds between 4.417273 and 5.945456 THEN 1 END ) rank6 ,count(CASE WHEN o.odds between 5.945456 and 8.002322 THEN 1 END ) rank7 ,count(CASE WHEN o.odds between 8.002322 and 10.770773 THEN 1 END ) rank8 ,count(CASE WHEN o.odds between 10.770773 and 14.496986 THEN 1 END ) rank9 ,count(CASE WHEN o.odds between 14.496986 and 19.512305 THEN 1 END ) rank10 ,count(CASE WHEN o.odds between 19.512305 and 26.262703 THEN 1 END ) rank11 ,count(CASE WHEN o.odds between 26.262703 and 35.348443 THEN 1 END ) rank12 ,count(CASE WHEN o.odds between 35.348443 and 47.577448 THEN 1 END ) rank13 ,count(CASE WHEN o.odds between 47.577448 and 64.037151 THEN 1 END ) rank14 ,count(CASE WHEN o.odds between 64.037151 and 86.191186 THEN 1 END ) rank15 ,count(CASE WHEN o.odds between 86.191186 and 116.009542 THEN 1 END ) rank16 ,count(CASE WHEN o.odds between 116.009542 and 156.143737 THEN 1 END ) rank17 ,count(CASE WHEN o.odds between 156.143737 and 210.162597 THEN 1 END ) rank18 ,count(CASE WHEN o.odds between 210.162597 and 282.869605 THEN 1 END ) rank19 ,count(CASE WHEN o.odds between 282.869605 and 380.730037 THEN 1 END ) rank20 ,count(CASE WHEN o.odds between 380.730037 and 512.445871 THEN 1 END ) rank21 ,count(CASE WHEN o.odds between 512.445871 and 689.729585 THEN 1 END ) rank22 ,count(CASE WHEN o.odds between 689.729585 and 928.345661 THEN 1 END ) rank23 ,count(CASE WHEN o.odds between 928.345661 and 1249.512396 THEN 1 END ) rank24 ,count(CASE WHEN o.odds between 1249.512396 and 1681.788685 THEN 1 END ) rank25 ,count(CASE WHEN o.odds between 1681.788685 and 2263.613541 THEN 1 END ) rank26 ,count(CASE WHEN o.odds between 2263.613541 and 3046.724186 THEN 1 END ) rank27 ,count(CASE WHEN o.odds between 3046.724186 and 4100.756644 THEN 1 END ) rank28 ,count(CASE WHEN o.odds between 4100.756644 and 5519.437937 THEN 1 END ) rank29 ,count(CASE WHEN o.odds between 5519.437937 and 7428.920509 THEN 1 END ) rank30 ,count(CASE WHEN o.odds > 7428.920509 THEN 1 END ) rank31 from raceodds o , racemanagement m            where o.raceId = m.raceId            and o.oddsType = '3t'            and m.raceDate between '20180101' and '20190131'\n",
      "{'rank1': 0, 'rank2': 0, 'rank3': 15, 'rank4': 291, 'rank5': 3012, 'rank6': 12294, 'rank7': 36232, 'rank8': 57695, 'rank9': 97247, 'rank10': 136433, 'rank11': 171521, 'rank12': 212877, 'rank13': 261527, 'rank14': 311942, 'rank15': 360506, 'rank16': 403737, 'rank17': 456040, 'rank18': 503291, 'rank19': 540160, 'rank20': 561450, 'rank21': 566168, 'rank22': 549400, 'rank23': 509199, 'rank24': 448981, 'rank25': 356144, 'rank26': 254291, 'rank27': 164739, 'rank28': 89845, 'rank29': 39948, 'rank30': 13667, 'rank31': 4629}\n"
     ]
    }
   ],
   "source": [
    "# オッズの分布\n",
    "oddsRank_sql = \"\"\n",
    "for i in range(oddsRankNum-1):\n",
    "    oddsRank_sql += \"count(CASE WHEN o.odds between %f and %f THEN 1 END ) rank%d ,\" % (oddsRankList[i],oddsRankList[i+1],i+1)\n",
    "oddsRank_sql += \"count(CASE WHEN o.odds > %f THEN 1 END ) rank%d \" %(oddsRankList[oddsRankNum-1],oddsRankNum)\n",
    "sel_sql = \"select \" + oddsRank_sql +\"from raceodds o , racemanagement m \\\n",
    "           where o.raceId = m.raceId \\\n",
    "           and o.oddsType = '3t' \\\n",
    "           and m.raceDate between '%s' and '%s'\"\\\n",
    "           % (analyzeStartDate,analyzeEndDate)\n",
    "print(sel_sql)\n",
    "\n",
    "with dbh.cursor() as cursor:\n",
    "    cursor.execute(sel_sql)\n",
    "    odds_dist=cursor.fetchall()[0]\n",
    "print(odds_dist)"
   ]
  },
  {
   "cell_type": "code",
   "execution_count": 8,
   "metadata": {},
   "outputs": [
    {
     "name": "stdout",
     "output_type": "stream",
     "text": [
      "select sum(CASE WHEN odds between 1.000000 and 1.345956 THEN odds*100 END ) rank1 ,sum(CASE WHEN odds between 1.345956 and 1.811598 THEN odds*100 END ) rank2 ,sum(CASE WHEN odds between 1.811598 and 2.438331 THEN odds*100 END ) rank3 ,sum(CASE WHEN odds between 2.438331 and 3.281886 THEN odds*100 END ) rank4 ,sum(CASE WHEN odds between 3.281886 and 4.417273 THEN odds*100 END ) rank5 ,sum(CASE WHEN odds between 4.417273 and 5.945456 THEN odds*100 END ) rank6 ,sum(CASE WHEN odds between 5.945456 and 8.002322 THEN odds*100 END ) rank7 ,sum(CASE WHEN odds between 8.002322 and 10.770773 THEN odds*100 END ) rank8 ,sum(CASE WHEN odds between 10.770773 and 14.496986 THEN odds*100 END ) rank9 ,sum(CASE WHEN odds between 14.496986 and 19.512305 THEN odds*100 END ) rank10 ,sum(CASE WHEN odds between 19.512305 and 26.262703 THEN odds*100 END ) rank11 ,sum(CASE WHEN odds between 26.262703 and 35.348443 THEN odds*100 END ) rank12 ,sum(CASE WHEN odds between 35.348443 and 47.577448 THEN odds*100 END ) rank13 ,sum(CASE WHEN odds between 47.577448 and 64.037151 THEN odds*100 END ) rank14 ,sum(CASE WHEN odds between 64.037151 and 86.191186 THEN odds*100 END ) rank15 ,sum(CASE WHEN odds between 86.191186 and 116.009542 THEN odds*100 END ) rank16 ,sum(CASE WHEN odds between 116.009542 and 156.143737 THEN odds*100 END ) rank17 ,sum(CASE WHEN odds between 156.143737 and 210.162597 THEN odds*100 END ) rank18 ,sum(CASE WHEN odds between 210.162597 and 282.869605 THEN odds*100 END ) rank19 ,sum(CASE WHEN odds between 282.869605 and 380.730037 THEN odds*100 END ) rank20 ,sum(CASE WHEN odds between 380.730037 and 512.445871 THEN odds*100 END ) rank21 ,sum(CASE WHEN odds between 512.445871 and 689.729585 THEN odds*100 END ) rank22 ,sum(CASE WHEN odds between 689.729585 and 928.345661 THEN odds*100 END ) rank23 ,sum(CASE WHEN odds between 928.345661 and 1249.512396 THEN odds*100 END ) rank24 ,sum(CASE WHEN odds between 1249.512396 and 1681.788685 THEN odds*100 END ) rank25 ,sum(CASE WHEN odds between 1681.788685 and 2263.613541 THEN odds*100 END ) rank26 ,sum(CASE WHEN odds between 2263.613541 and 3046.724186 THEN odds*100 END ) rank27 ,sum(CASE WHEN odds between 3046.724186 and 4100.756644 THEN odds*100 END ) rank28 ,sum(CASE WHEN odds between 4100.756644 and 5519.437937 THEN odds*100 END ) rank29 ,sum(CASE WHEN odds between 5519.437937 and 7428.920509 THEN odds*100 END ) rank30 ,sum(CASE WHEN odds > 7428.920509 THEN odds*100 END ) rank31 from raceresultsummary_v            where raceDate between '20180101' and '20190131'\n",
      "{'rank1': None, 'rank2': None, 'rank3': 900.0, 'rank4': 26720.0, 'rank5': 243180.0, 'rank6': 986780.0, 'rank7': 2885150.0, 'rank8': 4547420.0, 'rank9': 7505780.0, 'rank10': 10450290.0, 'rank11': 12951820.0, 'rank12': 16246870.0, 'rank13': 19687220.0, 'rank14': 22812550.0, 'rank15': 26445250.0, 'rank16': 29886880.0, 'rank17': 33597220.0, 'rank18': 36330100.0, 'rank19': 37244130.0, 'rank20': 37029610.0, 'rank21': 37257690.0, 'rank22': 32480660.0, 'rank23': 26777180.0, 'rank24': 20386960.0, 'rank25': 15317400.0, 'rank26': 10405500.0, 'rank27': 4116500.0, 'rank28': 3490300.0, 'rank29': 1394800.0, 'rank30': 1237800.0, 'rank31': None}\n"
     ]
    }
   ],
   "source": [
    "# 回収金額の分布\n",
    "returnRank_sql = \"\"\n",
    "for i in range(oddsRankNum-1):\n",
    "    returnRank_sql += \"sum(CASE WHEN odds between %f and %f THEN odds*100 END ) rank%d ,\" % (oddsRankList[i],oddsRankList[i+1],i+1)\n",
    "returnRank_sql += \"sum(CASE WHEN odds > %f THEN odds*100 END ) rank%d \" %(oddsRankList[oddsRankNum-1],oddsRankNum)\n",
    "sel_sql = \"select \" + returnRank_sql +\"from raceresultsummary_v \\\n",
    "           where raceDate between '%s' and '%s'\"\\\n",
    "           % (analyzeStartDate,analyzeEndDate)\n",
    "print(sel_sql)\n",
    "\n",
    "with dbh.cursor() as cursor:\n",
    "    cursor.execute(sel_sql)\n",
    "    return_dist=cursor.fetchall()[0]\n",
    "print(return_dist)\n",
    "\n"
   ]
  },
  {
   "cell_type": "code",
   "execution_count": 9,
   "metadata": {},
   "outputs": [
    {
     "name": "stdout",
     "output_type": "stream",
     "text": [
      "[0, 0, 60.0, 91.8213058419244, 80.73705179282868, 80.26517000162681, 79.62988518436741, 78.81826848080424, 77.18263802482339, 76.59649791472738, 75.51157001183529, 76.3204573533073, 75.27796365193652, 73.13074225336761, 73.35592195414223, 74.0256156854586, 73.67165160950793, 72.18507781780322, 68.95018142772511, 65.95353103571111, 65.80677466758983, 59.12024026210411, 52.586866824168936, 45.40717758657939, 43.00900759243452, 40.91965504087836, 24.988011339148592, 38.848016027603094, 34.91539000700911, 90.56852271895808, 0]\n"
     ]
    },
    {
     "data": {
      "image/png": "[encoded data removed]",
      "text/plain": [
       "<Figure size 432x288 with 1 Axes>"
      ]
     },
     "metadata": {
      "needs_background": "light"
     },
     "output_type": "display_data"
    }
   ],
   "source": [
    "# 回収率を見る\n",
    "# 10倍未満の本命周辺で回収率は78%～81%くらい。これを安定的に超えられれば、一応有効といえる。\n",
    "kaishuRank=[]\n",
    "oddsNum_dist=[]\n",
    "for r in odds_dist.keys():\n",
    "    if odds_dist[r] == None:\n",
    "        oddsNum_dist.append(0)\n",
    "    else:\n",
    "        oddsNum_dist.append(odds_dist[r])\n",
    "    if return_dist[r] == None or odds_dist[r]== None:\n",
    "        kaishuRank.append(0)\n",
    "    else:\n",
    "        kaishuRank.append(return_dist[r]/odds_dist[r])\n",
    "plt.plot(kaishuRank)\n",
    "\n",
    "print(kaishuRank)\n"
   ]
  },
  {
   "cell_type": "code",
   "execution_count": null,
   "metadata": {},
   "outputs": [],
   "source": []
  },
  {
   "cell_type": "code",
   "execution_count": null,
   "metadata": {},
   "outputs": [],
   "source": []
  },
  {
   "cell_type": "code",
   "execution_count": null,
   "metadata": {},
   "outputs": [],
   "source": []
  },
  {
   "cell_type": "code",
   "execution_count": null,
   "metadata": {},
   "outputs": [],
   "source": []
  },
  {
   "cell_type": "code",
   "execution_count": null,
   "metadata": {},
   "outputs": [],
   "source": []
  },
  {
   "cell_type": "code",
   "execution_count": null,
   "metadata": {},
   "outputs": [],
   "source": []
  },
  {
   "cell_type": "code",
   "execution_count": 11,
   "metadata": {},
   "outputs": [
    {
     "name": "stdout",
     "output_type": "stream",
     "text": [
      "|            Variable Name|    Memory|\n",
      " ------------------------------------ \n",
      "|             oddsRank_sql|      2404|\n",
      "|                odds_dist|      1184|\n",
      "|               raceIdList|      1448|\n",
      "|           returnRank_sql|      2497|\n",
      "|              return_dist|      1184|\n",
      "|                  sel_sql|      2588|\n"
     ]
    }
   ],
   "source": [
    "# メモリ使用チェック\n",
    "print(\"{}{: >25}{}{: >10}{}\".format('|','Variable Name','|','Memory','|'))\n",
    "print(\" ------------------------------------ \")\n",
    "for var_name in dir():\n",
    "    if not var_name.startswith(\"_\") and sys.getsizeof(eval(var_name)) > 1000: #ここだけアレンジ\n",
    "        print(\"{}{: >25}{}{: >10}{}\".format('|',var_name,'|',sys.getsizeof(eval(var_name)),'|'))"
   ]
  },
  {
   "cell_type": "code",
   "execution_count": null,
   "metadata": {},
   "outputs": [],
   "source": []
  },
  {
   "cell_type": "code",
   "execution_count": null,
   "metadata": {},
   "outputs": [],
   "source": []
  }
 ],
 "metadata": {
  "kernelspec": {
   "display_name": "Python 3",
   "language": "python",
   "name": "python3"
  },
  "language_info": {
   "codemirror_mode": {
    "name": "ipython",
    "version": 3
   },
   "file_extension": ".py",
   "mimetype": "text/x-python",
   "name": "python",
   "nbconvert_exporter": "python",
   "pygments_lexer": "ipython3",
   "version": "3.6.8"
  }
 },
 "nbformat": 4,
 "nbformat_minor": 2
}
