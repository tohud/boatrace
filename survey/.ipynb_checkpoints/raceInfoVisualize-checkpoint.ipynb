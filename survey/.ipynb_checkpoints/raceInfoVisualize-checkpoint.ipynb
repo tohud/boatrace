{
 "cells": [
  {
   "cell_type": "code",
   "execution_count": 18,
   "metadata": {},
   "outputs": [],
   "source": [
    "# ToDo 分類別のオッズ分布を見てみる\n",
    "\n",
    "# 汎用ライブラリのimport\n",
    "import sys\n",
    "import os\n",
    "from matplotlib import pyplot as plt\n",
    "import pandas as pd\n",
    "import numpy as np"
   ]
  },
  {
   "cell_type": "code",
   "execution_count": 19,
   "metadata": {},
   "outputs": [],
   "source": [
    "# 自作ライブラリのimport\n",
    "if os.environ['BR_HOME']+\"/boatrace\" not in sys.path:\n",
    "    sys.path.append(os.environ['BR_HOME']+\"/boatrace\")\n",
    "#print(sys.path)\n",
    "\n",
    "from setup.myUtil import dbHandler"
   ]
  },
  {
   "cell_type": "code",
   "execution_count": 20,
   "metadata": {},
   "outputs": [],
   "source": [
    "# 分析期間の指定は一旦ここでまとめてみる。\n",
    "analyzeStartDate=\"20180101\"\n",
    "analyzeEndDate=\"20180131\""
   ]
  },
  {
   "cell_type": "code",
   "execution_count": 21,
   "metadata": {},
   "outputs": [],
   "source": [
    "dbh=dbHandler.getDBHandle()"
   ]
  },
  {
   "cell_type": "code",
   "execution_count": 22,
   "metadata": {},
   "outputs": [
    {
     "name": "stdout",
     "output_type": "stream",
     "text": [
      "20180101-06-01\n"
     ]
    }
   ],
   "source": [
    "# 疎通\n",
    "raceDate_t = \"20180101\"\n",
    "with dbh.cursor() as cursor:\n",
    "    sel_sql = \"SELECT raceId FROM racemanagement \\\n",
    "               WHERE raceDate='%s' and racebeforeinfo_flg = TRUE\" \\\n",
    "                % (raceDate_t)\n",
    "    cursor.execute(sel_sql)\n",
    "    raceIdList=cursor.fetchall()\n",
    "    print(raceIdList[0]['raceId'])"
   ]
  },
  {
   "cell_type": "code",
   "execution_count": null,
   "metadata": {},
   "outputs": [],
   "source": []
  },
  {
   "cell_type": "code",
   "execution_count": 23,
   "metadata": {},
   "outputs": [
    {
     "name": "stdout",
     "output_type": "stream",
     "text": [
      "2364\n"
     ]
    }
   ],
   "source": [
    "with dbh.cursor() as cursor:\n",
    "    sel_sql = \"select * from raceresultsummary_v \\\n",
    "               where raceDate between '%s' and '%s' \"\\\n",
    "               % (analyzeStartDate,analyzeEndDate)\n",
    "    cursor.execute(sel_sql)\n",
    "    raceInfoList=cursor.fetchall()\n",
    "print(len(raceInfoList))"
   ]
  },
  {
   "cell_type": "code",
   "execution_count": 24,
   "metadata": {},
   "outputs": [
    {
     "data": {
      "text/html": [
       "<div>\n",
       "<style scoped>\n",
       "    .dataframe tbody tr th:only-of-type {\n",
       "        vertical-align: middle;\n",
       "    }\n",
       "\n",
       "    .dataframe tbody tr th {\n",
       "        vertical-align: top;\n",
       "    }\n",
       "\n",
       "    .dataframe thead th {\n",
       "        text-align: right;\n",
       "    }\n",
       "</style>\n",
       "<table border=\"1\" class=\"dataframe\">\n",
       "  <thead>\n",
       "    <tr style=\"text-align: right;\">\n",
       "      <th></th>\n",
       "      <th>funaken</th>\n",
       "      <th>odds</th>\n",
       "      <th>raceDate</th>\n",
       "      <th>raceGrade</th>\n",
       "      <th>raceId</th>\n",
       "      <th>raceNumber</th>\n",
       "      <th>raceSurfaceTemperature</th>\n",
       "      <th>raceTemperature</th>\n",
       "      <th>raceWaveHeight</th>\n",
       "      <th>raceWeather</th>\n",
       "      <th>raceWindSpeed</th>\n",
       "      <th>raceplaceId</th>\n",
       "    </tr>\n",
       "  </thead>\n",
       "  <tbody>\n",
       "    <tr>\n",
       "      <th>0</th>\n",
       "      <td>2-1-3</td>\n",
       "      <td>30.9</td>\n",
       "      <td>2018-01-01</td>\n",
       "      <td>ippan</td>\n",
       "      <td>20180101-06-01</td>\n",
       "      <td>1</td>\n",
       "      <td>9.0</td>\n",
       "      <td>8.0</td>\n",
       "      <td>3</td>\n",
       "      <td>晴</td>\n",
       "      <td>5.0</td>\n",
       "      <td>06</td>\n",
       "    </tr>\n",
       "    <tr>\n",
       "      <th>1</th>\n",
       "      <td>2-1-6</td>\n",
       "      <td>26.2</td>\n",
       "      <td>2018-01-01</td>\n",
       "      <td>ippan</td>\n",
       "      <td>20180101-06-02</td>\n",
       "      <td>2</td>\n",
       "      <td>8.0</td>\n",
       "      <td>8.0</td>\n",
       "      <td>3</td>\n",
       "      <td>晴</td>\n",
       "      <td>5.0</td>\n",
       "      <td>06</td>\n",
       "    </tr>\n",
       "    <tr>\n",
       "      <th>2</th>\n",
       "      <td>3-5-4</td>\n",
       "      <td>99.2</td>\n",
       "      <td>2018-01-01</td>\n",
       "      <td>ippan</td>\n",
       "      <td>20180101-06-03</td>\n",
       "      <td>3</td>\n",
       "      <td>8.0</td>\n",
       "      <td>8.0</td>\n",
       "      <td>3</td>\n",
       "      <td>晴</td>\n",
       "      <td>5.0</td>\n",
       "      <td>06</td>\n",
       "    </tr>\n",
       "    <tr>\n",
       "      <th>3</th>\n",
       "      <td>1-5-2</td>\n",
       "      <td>16.8</td>\n",
       "      <td>2018-01-01</td>\n",
       "      <td>ippan</td>\n",
       "      <td>20180101-06-04</td>\n",
       "      <td>4</td>\n",
       "      <td>9.0</td>\n",
       "      <td>8.0</td>\n",
       "      <td>3</td>\n",
       "      <td>晴</td>\n",
       "      <td>5.0</td>\n",
       "      <td>06</td>\n",
       "    </tr>\n",
       "    <tr>\n",
       "      <th>4</th>\n",
       "      <td>4-1-3</td>\n",
       "      <td>51.5</td>\n",
       "      <td>2018-01-01</td>\n",
       "      <td>ippan</td>\n",
       "      <td>20180101-06-05</td>\n",
       "      <td>5</td>\n",
       "      <td>9.0</td>\n",
       "      <td>9.0</td>\n",
       "      <td>3</td>\n",
       "      <td>晴</td>\n",
       "      <td>5.0</td>\n",
       "      <td>06</td>\n",
       "    </tr>\n",
       "  </tbody>\n",
       "</table>\n",
       "</div>"
      ],
      "text/plain": [
       "  funaken  odds    raceDate raceGrade          raceId  raceNumber  \\\n",
       "0   2-1-3  30.9  2018-01-01     ippan  20180101-06-01           1   \n",
       "1   2-1-6  26.2  2018-01-01     ippan  20180101-06-02           2   \n",
       "2   3-5-4  99.2  2018-01-01     ippan  20180101-06-03           3   \n",
       "3   1-5-2  16.8  2018-01-01     ippan  20180101-06-04           4   \n",
       "4   4-1-3  51.5  2018-01-01     ippan  20180101-06-05           5   \n",
       "\n",
       "   raceSurfaceTemperature  raceTemperature  raceWaveHeight raceWeather  \\\n",
       "0                     9.0              8.0               3           晴   \n",
       "1                     8.0              8.0               3           晴   \n",
       "2                     8.0              8.0               3           晴   \n",
       "3                     9.0              8.0               3           晴   \n",
       "4                     9.0              9.0               3           晴   \n",
       "\n",
       "   raceWindSpeed raceplaceId  \n",
       "0            5.0          06  \n",
       "1            5.0          06  \n",
       "2            5.0          06  \n",
       "3            5.0          06  \n",
       "4            5.0          06  "
      ]
     },
     "execution_count": 24,
     "metadata": {},
     "output_type": "execute_result"
    }
   ],
   "source": [
    "df = pd.io.json.json_normalize(raceInfoList)\n",
    "df.head()"
   ]
  },
  {
   "cell_type": "code",
   "execution_count": 25,
   "metadata": {},
   "outputs": [
    {
     "data": {
      "text/plain": [
       "<matplotlib.axes._subplots.AxesSubplot at 0x7fbd7c576c50>"
      ]
     },
     "execution_count": 25,
     "metadata": {},
     "output_type": "execute_result"
    },
    {
     "data": {
      "image/png": "[encoded data removed]",
      "text/plain": [
       "<Figure size 432x288 with 1 Axes>"
      ]
     },
     "metadata": {
      "needs_background": "light"
     },
     "output_type": "display_data"
    }
   ],
   "source": [
    "# 的中オッズの頻度分布\n",
    "df['odds'].plot(kind='hist',bins=np.logspace(0,3,100))"
   ]
  },
  {
   "cell_type": "code",
   "execution_count": 26,
   "metadata": {},
   "outputs": [
    {
     "data": {
      "text/plain": [
       "<matplotlib.axes._subplots.AxesSubplot at 0x7fbd7c4e61d0>"
      ]
     },
     "execution_count": 26,
     "metadata": {},
     "output_type": "execute_result"
    },
    {
     "data": {
      "image/png": "[encoded data removed]",
      "text/plain": [
       "<Figure size 432x288 with 1 Axes>"
      ]
     },
     "metadata": {
      "needs_background": "light"
     },
     "output_type": "display_data"
    }
   ],
   "source": [
    "# 水面温度の頻度分布\n",
    "df['raceSurfaceTemperature'].plot(kind='hist')"
   ]
  },
  {
   "cell_type": "code",
   "execution_count": 27,
   "metadata": {},
   "outputs": [
    {
     "data": {
      "text/plain": [
       "<matplotlib.axes._subplots.AxesSubplot at 0x7fbd7c408d30>"
      ]
     },
     "execution_count": 27,
     "metadata": {},
     "output_type": "execute_result"
    },
    {
     "data": {
      "image/png": "[encoded data removed]",
      "text/plain": [
       "<Figure size 432x288 with 1 Axes>"
      ]
     },
     "metadata": {
      "needs_background": "light"
     },
     "output_type": "display_data"
    }
   ],
   "source": [
    "# 波高の頻度分布\n",
    "df['raceWaveHeight'].plot(kind='hist')"
   ]
  },
  {
   "cell_type": "code",
   "execution_count": 28,
   "metadata": {},
   "outputs": [
    {
     "data": {
      "text/plain": [
       "<matplotlib.axes._subplots.AxesSubplot at 0x7fbd7c3889b0>"
      ]
     },
     "execution_count": 28,
     "metadata": {},
     "output_type": "execute_result"
    },
    {
     "data": {
      "image/png": "[encoded data removed]",
      "text/plain": [
       "<Figure size 432x288 with 1 Axes>"
      ]
     },
     "metadata": {
      "needs_background": "light"
     },
     "output_type": "display_data"
    }
   ],
   "source": [
    "# 風速の分布\n",
    "df['raceWindSpeed'].plot(kind='hist')"
   ]
  },
  {
   "cell_type": "code",
   "execution_count": 42,
   "metadata": {},
   "outputs": [
    {
     "name": "stdout",
     "output_type": "stream",
     "text": [
      "|            Variable Name|    Memory|\n",
      " ------------------------------------ \n",
      "|                       df|   1275238|\n",
      "|                 oddsList|     43040|\n",
      "|               raceIdList|      1448|\n"
     ]
    }
   ],
   "source": [
    "# メモリ使用チェック\n",
    "print(\"{}{: >25}{}{: >10}{}\".format('|','Variable Name','|','Memory','|'))\n",
    "print(\" ------------------------------------ \")\n",
    "for var_name in dir():\n",
    "    if not var_name.startswith(\"_\") and sys.getsizeof(eval(var_name)) > 1000: #ここだけアレンジ\n",
    "        print(\"{}{: >25}{}{: >10}{}\".format('|',var_name,'|',sys.getsizeof(eval(var_name)),'|'))"
   ]
  },
  {
   "cell_type": "code",
   "execution_count": 3,
   "metadata": {},
   "outputs": [],
   "source": []
  },
  {
   "cell_type": "code",
   "execution_count": null,
   "metadata": {},
   "outputs": [],
   "source": []
  }
 ],
 "metadata": {
  "kernelspec": {
   "display_name": "Python 3",
   "language": "python",
   "name": "python3"
  },
  "language_info": {
   "codemirror_mode": {
    "name": "ipython",
    "version": 3
   },
   "file_extension": ".py",
   "mimetype": "text/x-python",
   "name": "python",
   "nbconvert_exporter": "python",
   "pygments_lexer": "ipython3",
   "version": "3.6.8"
  }
 },
 "nbformat": 4,
 "nbformat_minor": 2
}
