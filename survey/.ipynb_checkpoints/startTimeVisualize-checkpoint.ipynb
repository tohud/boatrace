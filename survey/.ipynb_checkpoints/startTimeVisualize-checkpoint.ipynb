{
 "cells": [
  {
   "cell_type": "code",
   "execution_count": 6,
   "metadata": {},
   "outputs": [],
   "source": [
    "# ToDo \n",
    "\n",
    "# 汎用ライブラリのimport\n",
    "import sys\n",
    "import os\n",
    "from matplotlib import pyplot as plt\n",
    "import pandas as pd\n",
    "import numpy as np"
   ]
  },
  {
   "cell_type": "code",
   "execution_count": 7,
   "metadata": {},
   "outputs": [],
   "source": [
    "# 自作ライブラリのimport\n",
    "if os.environ['BR_HOME']+\"/boatrace\" not in sys.path:\n",
    "    sys.path.append(os.environ['BR_HOME']+\"/boatrace\")\n",
    "#print(sys.path)\n",
    "\n",
    "from setup.myUtil import dbHandler"
   ]
  },
  {
   "cell_type": "code",
   "execution_count": 8,
   "metadata": {},
   "outputs": [],
   "source": [
    "# 分析期間の指定は一旦ここでまとめてみる。\n",
    "analyzeStartDate=\"20180101\"\n",
    "analyzeEndDate=\"20180131\""
   ]
  },
  {
   "cell_type": "code",
   "execution_count": 9,
   "metadata": {},
   "outputs": [],
   "source": [
    "dbh=dbHandler.getDBHandle()\n",
    "#dbHandler.closeDBHandle(dbh)"
   ]
  },
  {
   "cell_type": "code",
   "execution_count": 14,
   "metadata": {},
   "outputs": [
    {
     "name": "stdout",
     "output_type": "stream",
     "text": [
      "11\n",
      "[{'raceId': '20180109-03-12', 'startTime_dev': -0.061667, 'startTime': 0.11, 'starttime_avg': 0.171667}, {'raceId': '20180109-03-08', 'startTime_dev': -0.025, 'startTime': 0.3, 'starttime_avg': 0.325}, {'raceId': '20180105-08-12', 'startTime_dev': 0.016667, 'startTime': 0.23, 'starttime_avg': 0.213333}, {'raceId': '20180104-08-10', 'startTime_dev': -0.003333, 'startTime': 0.13, 'starttime_avg': 0.133333}, {'raceId': '20180104-08-03', 'startTime_dev': 0.021667, 'startTime': 0.09, 'starttime_avg': 0.068333}, {'raceId': '20180103-08-11', 'startTime_dev': -0.068333, 'startTime': 0.12, 'starttime_avg': 0.188333}, {'raceId': '20180103-08-04', 'startTime_dev': -0.01, 'startTime': 0.06, 'starttime_avg': 0.07}, {'raceId': '20180102-08-12', 'startTime_dev': -0.021667, 'startTime': 0.12, 'starttime_avg': 0.141667}, {'raceId': '20180102-08-07', 'startTime_dev': -0.006667, 'startTime': 0.1, 'starttime_avg': 0.106667}, {'raceId': '20180101-08-12', 'startTime_dev': -0.025, 'startTime': 0.09, 'starttime_avg': 0.115}, {'raceId': '20180101-08-08', 'startTime_dev': -0.013333, 'startTime': 0.15, 'starttime_avg': 0.163333}]\n"
     ]
    }
   ],
   "source": [
    "# 日付と登録番号を与えて、該当選手の直近30回のスタート時刻の、各レース平均に対する偏差平均を出す。フライング除く。\n",
    "# 現在は、各レース平均に対する偏差のリストを返している。\n",
    "raceDate = \"20180131\"\n",
    "toban=\"4337\"\n",
    "with dbh.cursor() as cursor:\n",
    "    sel_sql = \"select v.raceId,(s.startTime-v.starttime_avg) as startTime_dev,s.startTime,v.starttime_avg \\\n",
    "               from raceresult s,racemanagement m, \\\n",
    "                    (select raceId,avg(startTime) as starttime_avg from raceresult \\\n",
    "                     where startTime between 0 and 9.9 \\\n",
    "                     group by raceId \\\n",
    "                     having count(*) = 6 ) v \\\n",
    "               where s.raceId = v.raceId \\\n",
    "                 and s.raceId = m.raceId \\\n",
    "                 and s.toban = '%s' \\\n",
    "                 and m.raceDate < '%s' \\\n",
    "                 order by raceId desc \\\n",
    "                 limit 30 \"\\\n",
    "               % (toban,raceDate)\n",
    "    cursor.execute(sel_sql)\n",
    "    startInfoList=cursor.fetchall()\n",
    "print(len(startInfoList))\n",
    "print(startInfoList)"
   ]
  },
  {
   "cell_type": "code",
   "execution_count": 15,
   "metadata": {},
   "outputs": [],
   "source": [
    "# 他の人よりどれだけスタートが早いと、進入コース別に、結果（1着、2着、3着、それ以下）にどれだけ影響があるのか。\n",
    "# 進入コースとスタート偏差にはどれだけ関係があるのか。アウトになるほどばらつきが大きくなる？\n",
    "# "
   ]
  },
  {
   "cell_type": "code",
   "execution_count": null,
   "metadata": {},
   "outputs": [],
   "source": []
  },
  {
   "cell_type": "code",
   "execution_count": 16,
   "metadata": {},
   "outputs": [
    {
     "name": "stdout",
     "output_type": "stream",
     "text": [
      "|            Variable Name|    Memory|\n",
      " ------------------------------------ \n"
     ]
    }
   ],
   "source": [
    "# メモリ使用チェック\n",
    "print(\"{}{: >25}{}{: >10}{}\".format('|','Variable Name','|','Memory','|'))\n",
    "print(\" ------------------------------------ \")\n",
    "for var_name in dir():\n",
    "    if not var_name.startswith(\"_\") and sys.getsizeof(eval(var_name)) > 1000: #ここだけアレンジ\n",
    "        print(\"{}{: >25}{}{: >10}{}\".format('|',var_name,'|',sys.getsizeof(eval(var_name)),'|'))"
   ]
  },
  {
   "cell_type": "code",
   "execution_count": null,
   "metadata": {},
   "outputs": [],
   "source": []
  }
 ],
 "metadata": {
  "kernelspec": {
   "display_name": "Python 3",
   "language": "python",
   "name": "python3"
  },
  "language_info": {
   "codemirror_mode": {
    "name": "ipython",
    "version": 3
   },
   "file_extension": ".py",
   "mimetype": "text/x-python",
   "name": "python",
   "nbconvert_exporter": "python",
   "pygments_lexer": "ipython3",
   "version": "3.6.8"
  }
 },
 "nbformat": 4,
 "nbformat_minor": 2
}
