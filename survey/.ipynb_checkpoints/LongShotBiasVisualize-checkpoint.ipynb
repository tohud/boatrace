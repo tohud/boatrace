{
 "cells": [
  {
   "cell_type": "code",
   "execution_count": 6,
   "metadata": {},
   "outputs": [],
   "source": [
    "# ToDo LGBMの成果を評価するために、オッズ帯別の回収率を見てみる。\n",
    "\n",
    "# 汎用ライブラリのimport\n",
    "import sys\n",
    "import os\n",
    "import math\n",
    "from matplotlib import pyplot as plt\n",
    "import pandas as pd\n",
    "import numpy as np"
   ]
  },
  {
   "cell_type": "code",
   "execution_count": 2,
   "metadata": {},
   "outputs": [],
   "source": [
    "# 自作ライブラリのimport\n",
    "if os.environ['BR_HOME']+\"/boatrace\" not in sys.path:\n",
    "    sys.path.append(os.environ['BR_HOME']+\"/boatrace\")\n",
    "#print(sys.path)\n",
    "\n",
    "from setup.myUtil import dbHandler"
   ]
  },
  {
   "cell_type": "code",
   "execution_count": 41,
   "metadata": {},
   "outputs": [],
   "source": [
    "# 分析期間の指定は一旦ここでまとめてみる。\n",
    "analyzeStartDate=\"20180101\"\n",
    "analyzeEndDate=\"20190131\""
   ]
  },
  {
   "cell_type": "code",
   "execution_count": 42,
   "metadata": {},
   "outputs": [],
   "source": [
    "dbh=dbHandler.getDBHandle()"
   ]
  },
  {
   "cell_type": "code",
   "execution_count": 43,
   "metadata": {},
   "outputs": [
    {
     "name": "stdout",
     "output_type": "stream",
     "text": [
      "20180101-06-01\n"
     ]
    }
   ],
   "source": [
    "# 疎通\n",
    "raceDate_t = \"20180101\"\n",
    "with dbh.cursor() as cursor:\n",
    "    sel_sql = \"SELECT raceId FROM racemanagement \\\n",
    "               WHERE raceDate='%s' and racebeforeinfo_flg = TRUE\" \\\n",
    "                % (raceDate_t)\n",
    "    cursor.execute(sel_sql)\n",
    "    raceIdList=cursor.fetchall()\n",
    "    print(raceIdList[0]['raceId'])"
   ]
  },
  {
   "cell_type": "code",
   "execution_count": 52,
   "metadata": {},
   "outputs": [
    {
     "name": "stdout",
     "output_type": "stream",
     "text": [
      "1.0\n",
      "1.249568811802059\n",
      "1.5614222154284094\n",
      "1.9511045024542162\n",
      "2.438039334833362\n",
      "3.0464979147544065\n",
      "3.8068087794971146\n",
      "4.756869523353855\n",
      "5.944035798194704\n",
      "7.427481749659059\n",
      "9.281149544602947\n",
      "11.597435008606725\n",
      "14.491793083656313\n",
      "18.108492664425714\n",
      "22.62780766221274\n",
      "28.275002734156697\n",
      "35.33156157022015\n",
      "44.14921741041128\n",
      "55.16748514151839\n",
      "68.93556885839487\n",
      "86.1397368692835\n",
      "107.6375286486926\n",
      "134.50049877885687\n",
      "168.06762844588044\n",
      "210.01206677950896\n",
      "262.4245287497656\n",
      "327.9175065775599\n",
      "409.75548906321535\n",
      "512.0176795980935\n",
      "639.8013235170371\n",
      "799.4757796165686\n"
     ]
    }
   ],
   "source": [
    "# オッズ帯は対数分布から作る。何段階にするかを指定する\n",
    "oddsRankNum = 31\n",
    "maxOddsVal = 999\n",
    "logMaxOddsVal=math.log(maxOddsVal)\n",
    "oddsRankList=[]\n",
    "for i in range(oddsRankNum):\n",
    "    print( math.exp(logMaxOddsVal/oddsRankNum*i) )\n",
    "    oddsRankList.append(math.exp(logMaxOddsVal/oddsRankNum*i))"
   ]
  },
  {
   "cell_type": "code",
   "execution_count": 53,
   "metadata": {},
   "outputs": [
    {
     "name": "stdout",
     "output_type": "stream",
     "text": [
      "select count(CASE WHEN o.odds between 1.000000 and 1.249569 THEN 1 END ) rank1 ,count(CASE WHEN o.odds between 1.249569 and 1.561422 THEN 1 END ) rank2 ,count(CASE WHEN o.odds between 1.561422 and 1.951105 THEN 1 END ) rank3 ,count(CASE WHEN o.odds between 1.951105 and 2.438039 THEN 1 END ) rank4 ,count(CASE WHEN o.odds between 2.438039 and 3.046498 THEN 1 END ) rank5 ,count(CASE WHEN o.odds between 3.046498 and 3.806809 THEN 1 END ) rank6 ,count(CASE WHEN o.odds between 3.806809 and 4.756870 THEN 1 END ) rank7 ,count(CASE WHEN o.odds between 4.756870 and 5.944036 THEN 1 END ) rank8 ,count(CASE WHEN o.odds between 5.944036 and 7.427482 THEN 1 END ) rank9 ,count(CASE WHEN o.odds between 7.427482 and 9.281150 THEN 1 END ) rank10 ,count(CASE WHEN o.odds between 9.281150 and 11.597435 THEN 1 END ) rank11 ,count(CASE WHEN o.odds between 11.597435 and 14.491793 THEN 1 END ) rank12 ,count(CASE WHEN o.odds between 14.491793 and 18.108493 THEN 1 END ) rank13 ,count(CASE WHEN o.odds between 18.108493 and 22.627808 THEN 1 END ) rank14 ,count(CASE WHEN o.odds between 22.627808 and 28.275003 THEN 1 END ) rank15 ,count(CASE WHEN o.odds between 28.275003 and 35.331562 THEN 1 END ) rank16 ,count(CASE WHEN o.odds between 35.331562 and 44.149217 THEN 1 END ) rank17 ,count(CASE WHEN o.odds between 44.149217 and 55.167485 THEN 1 END ) rank18 ,count(CASE WHEN o.odds between 55.167485 and 68.935569 THEN 1 END ) rank19 ,count(CASE WHEN o.odds between 68.935569 and 86.139737 THEN 1 END ) rank20 ,count(CASE WHEN o.odds between 86.139737 and 107.637529 THEN 1 END ) rank21 ,count(CASE WHEN o.odds between 107.637529 and 134.500499 THEN 1 END ) rank22 ,count(CASE WHEN o.odds between 134.500499 and 168.067628 THEN 1 END ) rank23 ,count(CASE WHEN o.odds between 168.067628 and 210.012067 THEN 1 END ) rank24 ,count(CASE WHEN o.odds between 210.012067 and 262.424529 THEN 1 END ) rank25 ,count(CASE WHEN o.odds between 262.424529 and 327.917507 THEN 1 END ) rank26 ,count(CASE WHEN o.odds between 327.917507 and 409.755489 THEN 1 END ) rank27 ,count(CASE WHEN o.odds between 409.755489 and 512.017680 THEN 1 END ) rank28 ,count(CASE WHEN o.odds between 512.017680 and 639.801324 THEN 1 END ) rank29 ,count(CASE WHEN o.odds between 639.801324 and 799.475780 THEN 1 END ) rank30 ,count(CASE WHEN o.odds > 799.475780 THEN 1 END ) rank31 from raceodds o , racemanagement m            where o.raceId = m.raceId            and o.oddsType = '3t'            and m.raceDate between '20180101' and '20190131'\n",
      "{'rank1': 0, 'rank2': 0, 'rank3': 0, 'rank4': 15, 'rank5': 149, 'rank6': 1124, 'rank7': 3593, 'rank8': 10731, 'rank9': 24253, 'rank10': 36868, 'rank11': 52819, 'rank12': 77234, 'rank13': 99722, 'rank14': 116762, 'rank15': 139935, 'rank16': 164412, 'rank17': 191463, 'rank18': 218869, 'rank19': 248652, 'rank20': 274991, 'rank21': 297187, 'rank22': 327557, 'rank23': 355089, 'rank24': 382338, 'rank25': 402461, 'rank26': 415846, 'rank27': 424443, 'rank28': 424407, 'rank29': 414557, 'rank30': 395396, 'rank31': 1622408}\n"
     ]
    }
   ],
   "source": [
    "# オッズの分布\n",
    "oddsRank_sql = \"\"\n",
    "for i in range(oddsRankNum-1):\n",
    "    oddsRank_sql += \"count(CASE WHEN o.odds between %f and %f THEN 1 END ) rank%d ,\" % (oddsRankList[i],oddsRankList[i+1],i+1)\n",
    "oddsRank_sql += \"count(CASE WHEN o.odds > %f THEN 1 END ) rank%d \" %(oddsRankList[oddsRankNum-1],oddsRankNum)\n",
    "sel_sql = \"select \" + oddsRank_sql +\"from raceodds o , racemanagement m \\\n",
    "           where o.raceId = m.raceId \\\n",
    "           and o.oddsType = '3t' \\\n",
    "           and m.raceDate between '%s' and '%s'\"\\\n",
    "           % (analyzeStartDate,analyzeEndDate)\n",
    "print(sel_sql)\n",
    "\n",
    "with dbh.cursor() as cursor:\n",
    "    cursor.execute(sel_sql)\n",
    "    odds_dist=cursor.fetchall()[0]\n",
    "print(odds_dist)"
   ]
  },
  {
   "cell_type": "code",
   "execution_count": 54,
   "metadata": {},
   "outputs": [
    {
     "name": "stdout",
     "output_type": "stream",
     "text": [
      "select sum(CASE WHEN odds between 1.000000 and 1.249569 THEN odds*100 END ) rank1 ,sum(CASE WHEN odds between 1.249569 and 1.561422 THEN odds*100 END ) rank2 ,sum(CASE WHEN odds between 1.561422 and 1.951105 THEN odds*100 END ) rank3 ,sum(CASE WHEN odds between 1.951105 and 2.438039 THEN odds*100 END ) rank4 ,sum(CASE WHEN odds between 2.438039 and 3.046498 THEN odds*100 END ) rank5 ,sum(CASE WHEN odds between 3.046498 and 3.806809 THEN odds*100 END ) rank6 ,sum(CASE WHEN odds between 3.806809 and 4.756870 THEN odds*100 END ) rank7 ,sum(CASE WHEN odds between 4.756870 and 5.944036 THEN odds*100 END ) rank8 ,sum(CASE WHEN odds between 5.944036 and 7.427482 THEN odds*100 END ) rank9 ,sum(CASE WHEN odds between 7.427482 and 9.281150 THEN odds*100 END ) rank10 ,sum(CASE WHEN odds between 9.281150 and 11.597435 THEN odds*100 END ) rank11 ,sum(CASE WHEN odds between 11.597435 and 14.491793 THEN odds*100 END ) rank12 ,sum(CASE WHEN odds between 14.491793 and 18.108493 THEN odds*100 END ) rank13 ,sum(CASE WHEN odds between 18.108493 and 22.627808 THEN odds*100 END ) rank14 ,sum(CASE WHEN odds between 22.627808 and 28.275003 THEN odds*100 END ) rank15 ,sum(CASE WHEN odds between 28.275003 and 35.331562 THEN odds*100 END ) rank16 ,sum(CASE WHEN odds between 35.331562 and 44.149217 THEN odds*100 END ) rank17 ,sum(CASE WHEN odds between 44.149217 and 55.167485 THEN odds*100 END ) rank18 ,sum(CASE WHEN odds between 55.167485 and 68.935569 THEN odds*100 END ) rank19 ,sum(CASE WHEN odds between 68.935569 and 86.139737 THEN odds*100 END ) rank20 ,sum(CASE WHEN odds between 86.139737 and 107.637529 THEN odds*100 END ) rank21 ,sum(CASE WHEN odds between 107.637529 and 134.500499 THEN odds*100 END ) rank22 ,sum(CASE WHEN odds between 134.500499 and 168.067628 THEN odds*100 END ) rank23 ,sum(CASE WHEN odds between 168.067628 and 210.012067 THEN odds*100 END ) rank24 ,sum(CASE WHEN odds between 210.012067 and 262.424529 THEN odds*100 END ) rank25 ,sum(CASE WHEN odds between 262.424529 and 327.917507 THEN odds*100 END ) rank26 ,sum(CASE WHEN odds between 327.917507 and 409.755489 THEN odds*100 END ) rank27 ,sum(CASE WHEN odds between 409.755489 and 512.017680 THEN odds*100 END ) rank28 ,sum(CASE WHEN odds between 512.017680 and 639.801324 THEN odds*100 END ) rank29 ,sum(CASE WHEN odds between 639.801324 and 799.475780 THEN odds*100 END ) rank30 ,sum(CASE WHEN odds > 799.475780 THEN odds*100 END ) rank31 from raceresultsummary_v            where raceDate between '20180101' and '20190131'\n",
      "{'rank1': None, 'rank2': None, 'rank3': None, 'rank4': 900.0, 'rank5': 14140.0, 'rank6': 91160.0, 'rank7': 281400.0, 'rank8': 869980.0, 'rank9': 1970230.0, 'rank10': 2883710.0, 'rank11': 4151490.0, 'rank12': 5932920.0, 'rank13': 7697530.0, 'rank14': 8875400.0, 'rank15': 10470240.0, 'rank16': 12605810.0, 'rank17': 14658650.0, 'rank18': 15986790.0, 'rank19': 18100050.0, 'rank20': 20199530.0, 'rank21': 21870600.0, 'rank22': 24901370.0, 'rank23': 25480670.0, 'rank24': 27498530.0, 'rank25': 27318120.0, 'rank26': 28146320.0, 'rank27': 27946840.0, 'rank28': 28029480.0, 'rank29': 25340420.0, 'rank30': 20350240.0, 'rank31': 70070140.0}\n"
     ]
    }
   ],
   "source": [
    "# 回収金額の分布\n",
    "returnRank_sql = \"\"\n",
    "for i in range(oddsRankNum-1):\n",
    "    returnRank_sql += \"sum(CASE WHEN odds between %f and %f THEN odds*100 END ) rank%d ,\" % (oddsRankList[i],oddsRankList[i+1],i+1)\n",
    "returnRank_sql += \"sum(CASE WHEN odds > %f THEN odds*100 END ) rank%d \" %(oddsRankList[oddsRankNum-1],oddsRankNum)\n",
    "sel_sql = \"select \" + returnRank_sql +\"from raceresultsummary_v \\\n",
    "           where raceDate between '%s' and '%s'\"\\\n",
    "           % (analyzeStartDate,analyzeEndDate)\n",
    "print(sel_sql)\n",
    "\n",
    "with dbh.cursor() as cursor:\n",
    "    cursor.execute(sel_sql)\n",
    "    return_dist=cursor.fetchall()[0]\n",
    "print(return_dist)\n",
    "\n"
   ]
  },
  {
   "cell_type": "code",
   "execution_count": 55,
   "metadata": {},
   "outputs": [
    {
     "name": "stdout",
     "output_type": "stream",
     "text": [
      "[0, 0, 0, 60.0, 94.8993288590604, 81.1032028469751, 78.31895352073477, 81.07166154132887, 81.2365480559106, 78.21715308668765, 78.59842102273802, 76.81746381127483, 77.18988788832955, 76.01274387215018, 74.82216743488048, 76.67207989684451, 76.56126771229951, 73.04273332450005, 72.79269822884996, 73.45524035332065, 73.59204810439219, 76.02148633672918, 71.75854504082075, 71.92204279982633, 67.87768255806152, 67.6844793505288, 65.84356438909347, 66.04386826795977, 61.126503713602716, 51.46799664134184, 43.1889758926238]\n"
     ]
    },
    {
     "data": {
      "image/png": "[encoded data removed]",
      "text/plain": [
       "<Figure size 432x288 with 1 Axes>"
      ]
     },
     "metadata": {
      "needs_background": "light"
     },
     "output_type": "display_data"
    }
   ],
   "source": [
    "# 回収率を見る\n",
    "# 10倍未満の本命周辺で回収率は78%～81%くらい。これを安定的に超えられれば、一応有効といえる。\n",
    "kaishuRank=[]\n",
    "oddsNum_dist=[]\n",
    "for r in odds_dist.keys():\n",
    "    if odds_dist[r] == None:\n",
    "        oddsNum_dist.append(0)\n",
    "    else:\n",
    "        oddsNum_dist.append(odds_dist[r])\n",
    "    if return_dist[r] == None or odds_dist[r]== None:\n",
    "        kaishuRank.append(0)\n",
    "    else:\n",
    "        kaishuRank.append(return_dist[r]/odds_dist[r])\n",
    "plt.plot(kaishuRank)\n",
    "\n",
    "print(kaishuRank)\n"
   ]
  },
  {
   "cell_type": "code",
   "execution_count": null,
   "metadata": {},
   "outputs": [],
   "source": []
  },
  {
   "cell_type": "code",
   "execution_count": null,
   "metadata": {},
   "outputs": [],
   "source": []
  },
  {
   "cell_type": "code",
   "execution_count": null,
   "metadata": {},
   "outputs": [],
   "source": []
  },
  {
   "cell_type": "code",
   "execution_count": null,
   "metadata": {},
   "outputs": [],
   "source": []
  },
  {
   "cell_type": "code",
   "execution_count": null,
   "metadata": {},
   "outputs": [],
   "source": []
  },
  {
   "cell_type": "code",
   "execution_count": null,
   "metadata": {},
   "outputs": [],
   "source": []
  },
  {
   "cell_type": "code",
   "execution_count": 56,
   "metadata": {},
   "outputs": [
    {
     "name": "stdout",
     "output_type": "stream",
     "text": [
      "|            Variable Name|    Memory|\n",
      " ------------------------------------ \n",
      "|             oddsRank_sql|      2374|\n",
      "|                odds_dist|      1184|\n",
      "|               raceIdList|      1448|\n",
      "|           returnRank_sql|      2467|\n",
      "|              return_dist|      1184|\n",
      "|                  sel_sql|      2558|\n"
     ]
    }
   ],
   "source": [
    "# メモリ使用チェック\n",
    "print(\"{}{: >25}{}{: >10}{}\".format('|','Variable Name','|','Memory','|'))\n",
    "print(\" ------------------------------------ \")\n",
    "for var_name in dir():\n",
    "    if not var_name.startswith(\"_\") and sys.getsizeof(eval(var_name)) > 1000: #ここだけアレンジ\n",
    "        print(\"{}{: >25}{}{: >10}{}\".format('|',var_name,'|',sys.getsizeof(eval(var_name)),'|'))"
   ]
  },
  {
   "cell_type": "code",
   "execution_count": 3,
   "metadata": {},
   "outputs": [],
   "source": []
  },
  {
   "cell_type": "code",
   "execution_count": null,
   "metadata": {},
   "outputs": [],
   "source": []
  }
 ],
 "metadata": {
  "kernelspec": {
   "display_name": "Python 3",
   "language": "python",
   "name": "python3"
  },
  "language_info": {
   "codemirror_mode": {
    "name": "ipython",
    "version": 3
   },
   "file_extension": ".py",
   "mimetype": "text/x-python",
   "name": "python",
   "nbconvert_exporter": "python",
   "pygments_lexer": "ipython3",
   "version": "3.6.8"
  }
 },
 "nbformat": 4,
 "nbformat_minor": 2
}
