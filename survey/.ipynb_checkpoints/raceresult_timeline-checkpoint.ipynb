{
 "cells": [
  {
   "cell_type": "code",
   "execution_count": 1,
   "metadata": {},
   "outputs": [],
   "source": [
    "# todo:同じ人で連対率はどのくらい変わるのかを可視化する。\n",
    "# todo:過去の連対率とその後の成績が実際に相関するのかを可視化する。\n",
    "# warn:いずれも、枠によってバイアスがかからないように注意する。"
   ]
  },
  {
   "cell_type": "code",
   "execution_count": 2,
   "metadata": {},
   "outputs": [],
   "source": [
    "# 汎用ライブラリのimport\n",
    "import sys\n",
    "import os\n",
    "from matplotlib import pyplot as plt\n",
    "import pandas as pd\n",
    "import numpy as np"
   ]
  },
  {
   "cell_type": "code",
   "execution_count": 3,
   "metadata": {},
   "outputs": [],
   "source": [
    "# 自作ライブラリのimport\n",
    "if os.environ['BR_HOME']+\"/boatrace\" not in sys.path:\n",
    "    sys.path.append(os.environ['BR_HOME']+\"/boatrace\")\n",
    "#print(sys.path)\n",
    "\n",
    "from setup.myUtil import dbHandler"
   ]
  },
  {
   "cell_type": "code",
   "execution_count": 10,
   "metadata": {},
   "outputs": [],
   "source": [
    "# 分析期間の指定は一旦ここでまとめてみる。\n",
    "analyzeStartDate=\"20180101\"\n",
    "analyzeEndDate=\"20181231\""
   ]
  },
  {
   "cell_type": "code",
   "execution_count": 11,
   "metadata": {},
   "outputs": [],
   "source": [
    "dbh=dbHandler.getDBHandle()"
   ]
  },
  {
   "cell_type": "code",
   "execution_count": 12,
   "metadata": {},
   "outputs": [
    {
     "name": "stdout",
     "output_type": "stream",
     "text": [
      "[{'raceId': '20181228-22-06', 'goalRank': 6, 'lane': 1}, {'raceId': '20181228-22-01', 'goalRank': 4, 'lane': 4}, {'raceId': '20181227-22-03', 'goalRank': 4, 'lane': 6}, {'raceId': '20181226-22-10', 'goalRank': 4, 'lane': 5}, {'raceId': '20181226-22-01', 'goalRank': 4, 'lane': 3}, {'raceId': '20181225-22-06', 'goalRank': 4, 'lane': 2}, {'raceId': '20181218-20-08', 'goalRank': 5, 'lane': 5}, {'raceId': '20181218-20-03', 'goalRank': 2, 'lane': 1}, {'raceId': '20181217-20-04', 'goalRank': 5, 'lane': 4}, {'raceId': '20181216-20-08', 'goalRank': 4, 'lane': 5}, {'raceId': '20181216-20-01', 'goalRank': 1, 'lane': 2}, {'raceId': '20181215-20-04', 'goalRank': 5, 'lane': 3}, {'raceId': '20181214-20-06', 'goalRank': 4, 'lane': 4}, {'raceId': '20181214-20-01', 'goalRank': 3, 'lane': 2}, {'raceId': '20181213-20-05', 'goalRank': 6, 'lane': 5}, {'raceId': '20181202-04-09', 'goalRank': 3, 'lane': 5}, {'raceId': '20181202-04-05', 'goalRank': 4, 'lane': 2}, {'raceId': '20181201-04-07', 'goalRank': 4, 'lane': 6}, {'raceId': '20181201-04-03', 'goalRank': 6, 'lane': 3}, {'raceId': '20181130-04-06', 'goalRank': 2, 'lane': 1}, {'raceId': '20181129-04-05', 'goalRank': 6, 'lane': 3}, {'raceId': '20181128-04-03', 'goalRank': 4, 'lane': 5}, {'raceId': '20181127-04-07', 'goalRank': 1, 'lane': 4}, {'raceId': '20181127-04-01', 'goalRank': 5, 'lane': 2}, {'raceId': '20181112-15-08', 'goalRank': 6, 'lane': 3}, {'raceId': '20181112-15-02', 'goalRank': 2, 'lane': 1}, {'raceId': '20181111-15-05', 'goalRank': 4, 'lane': 6}, {'raceId': '20181110-15-04', 'goalRank': 4, 'lane': 1}, {'raceId': '20181109-15-12', 'goalRank': 5, 'lane': 6}, {'raceId': '20181109-15-02', 'goalRank': 6, 'lane': 5}, {'raceId': '20181108-15-04', 'goalRank': 5, 'lane': 3}, {'raceId': '20181107-15-06', 'goalRank': 5, 'lane': 4}, {'raceId': '20181107-15-01', 'goalRank': 2, 'lane': 2}, {'raceId': '20181031-23-06', 'goalRank': 2, 'lane': 3}, {'raceId': '20181031-23-01', 'goalRank': 3, 'lane': 5}, {'raceId': '20181030-23-07', 'goalRank': 1, 'lane': 1}, {'raceId': '20181029-23-08', 'goalRank': 4, 'lane': 6}, {'raceId': '20181029-23-03', 'goalRank': 6, 'lane': 2}, {'raceId': '20181028-23-06', 'goalRank': 6, 'lane': 5}, {'raceId': '20181028-23-02', 'goalRank': 5, 'lane': 3}, {'raceId': '20181027-23-08', 'goalRank': 4, 'lane': 6}, {'raceId': '20181027-23-03', 'goalRank': 5, 'lane': 4}, {'raceId': '20181026-23-04', 'goalRank': 2, 'lane': 2}, {'raceId': '20181021-02-08', 'goalRank': 3, 'lane': 3}, {'raceId': '20181021-02-02', 'goalRank': 2, 'lane': 1}, {'raceId': '20181020-02-09', 'goalRank': 5, 'lane': 3}, {'raceId': '20181020-02-02', 'goalRank': 6, 'lane': 6}, {'raceId': '20181019-02-09', 'goalRank': 5, 'lane': 2}, {'raceId': '20181019-02-01', 'goalRank': 2, 'lane': 4}, {'raceId': '20181018-02-05', 'goalRank': 4, 'lane': 5}, {'raceId': '20181010-09-07', 'goalRank': 3, 'lane': 3}, {'raceId': '20181010-09-02', 'goalRank': 4, 'lane': 5}, {'raceId': '20181009-09-06', 'goalRank': 5, 'lane': 6}, {'raceId': '20181008-09-07', 'goalRank': 1, 'lane': 1}, {'raceId': '20181007-09-08', 'goalRank': 6, 'lane': 2}, {'raceId': '20181007-09-01', 'goalRank': 6, 'lane': 3}, {'raceId': '20181006-09-05', 'goalRank': 3, 'lane': 5}, {'raceId': '20181005-09-09', 'goalRank': 6, 'lane': 6}, {'raceId': '20181005-09-05', 'goalRank': 6, 'lane': 4}, {'raceId': '20181001-23-06', 'goalRank': 5, 'lane': 3}, {'raceId': '20181001-23-02', 'goalRank': 3, 'lane': 5}, {'raceId': '20180929-23-06', 'goalRank': 5, 'lane': 1}, {'raceId': '20180928-23-05', 'goalRank': 6, 'lane': 5}, {'raceId': '20180928-23-01', 'goalRank': 5, 'lane': 2}, {'raceId': '20180927-23-08', 'goalRank': 2, 'lane': 3}, {'raceId': '20180927-23-03', 'goalRank': 4, 'lane': 4}, {'raceId': '20180926-23-03', 'goalRank': 6, 'lane': 6}, {'raceId': '20180913-03-08', 'goalRank': 4, 'lane': 4}, {'raceId': '20180913-03-03', 'goalRank': 4, 'lane': 3}, {'raceId': '20180912-03-08', 'goalRank': 4, 'lane': 6}, {'raceId': '20180912-03-01', 'goalRank': 6, 'lane': 2}, {'raceId': '20180911-03-01', 'goalRank': 3, 'lane': 1}, {'raceId': '20180910-03-09', 'goalRank': 4, 'lane': 5}, {'raceId': '20180910-03-01', 'goalRank': 5, 'lane': 3}, {'raceId': '20180824-11-09', 'goalRank': 6, 'lane': 4}, {'raceId': '20180824-11-01', 'goalRank': 6, 'lane': 3}, {'raceId': '20180823-11-07', 'goalRank': 1, 'lane': 2}, {'raceId': '20180823-11-02', 'goalRank': 4, 'lane': 5}, {'raceId': '20180822-11-03', 'goalRank': 5, 'lane': 1}, {'raceId': '20180821-11-11', 'goalRank': 4, 'lane': 6}, {'raceId': '20180821-11-04', 'goalRank': 3, 'lane': 4}, {'raceId': '20180820-11-05', 'goalRank': 3, 'lane': 3}, {'raceId': '20180819-11-06', 'goalRank': 5, 'lane': 5}, {'raceId': '20180819-11-01', 'goalRank': 1, 'lane': 2}, {'raceId': '20180815-22-09', 'goalRank': 5, 'lane': 5}, {'raceId': '20180815-22-01', 'goalRank': 2, 'lane': 2}, {'raceId': '20180805-10-05', 'goalRank': 5, 'lane': 5}, {'raceId': '20180805-10-01', 'goalRank': 3, 'lane': 3}, {'raceId': '20180804-10-08', 'goalRank': 4, 'lane': 6}, {'raceId': '20180804-10-01', 'goalRank': 3, 'lane': 2}, {'raceId': '20180803-10-05', 'goalRank': 3, 'lane': 1}, {'raceId': '20180802-10-02', 'goalRank': 3, 'lane': 3}, {'raceId': '20180801-10-10', 'goalRank': 4, 'lane': 5}, {'raceId': '20180801-10-01', 'goalRank': 5, 'lane': 4}, {'raceId': '20180727-03-08', 'goalRank': 4, 'lane': 3}, {'raceId': '20180727-03-03', 'goalRank': 6, 'lane': 4}, {'raceId': '20180726-03-05', 'goalRank': 5, 'lane': 2}, {'raceId': '20180725-03-06', 'goalRank': 2, 'lane': 3}, {'raceId': '20180725-03-01', 'goalRank': 4, 'lane': 5}, {'raceId': '20180724-03-05', 'goalRank': 5, 'lane': 1}, {'raceId': '20180723-03-11', 'goalRank': 4, 'lane': 6}, {'raceId': '20180723-03-05', 'goalRank': 4, 'lane': 4}, {'raceId': '20180722-03-01', 'goalRank': 3, 'lane': 2}, {'raceId': '20180719-22-07', 'goalRank': 5, 'lane': 3}, {'raceId': '20180719-22-03', 'goalRank': 6, 'lane': 4}, {'raceId': '20180718-22-04', 'goalRank': 5, 'lane': 5}, {'raceId': '20180717-22-05', 'goalRank': 2, 'lane': 1}, {'raceId': '20180716-22-05', 'goalRank': 4, 'lane': 4}, {'raceId': '20180716-22-01', 'goalRank': 5, 'lane': 6}, {'raceId': '20180715-22-08', 'goalRank': 4, 'lane': 2}, {'raceId': '20180715-22-01', 'goalRank': 5, 'lane': 5}, {'raceId': '20180714-22-04', 'goalRank': 4, 'lane': 3}, {'raceId': '20180707-24-09', 'goalRank': 6, 'lane': 5}, {'raceId': '20180707-24-01', 'goalRank': 5, 'lane': 2}, {'raceId': '20180706-24-03', 'goalRank': 1, 'lane': 1}, {'raceId': '20180705-24-08', 'goalRank': 3, 'lane': 6}, {'raceId': '20180705-24-01', 'goalRank': 3, 'lane': 4}, {'raceId': '20180704-24-07', 'goalRank': 6, 'lane': 5}, {'raceId': '20180702-24-08', 'goalRank': 6, 'lane': 4}, {'raceId': '20180702-24-02', 'goalRank': 5, 'lane': 3}, {'raceId': '20180701-24-05', 'goalRank': 2, 'lane': 2}, {'raceId': '20180621-14-11', 'goalRank': 6, 'lane': 6}, {'raceId': '20180621-14-06', 'goalRank': 3, 'lane': 1}, {'raceId': '20180620-14-12', 'goalRank': 6, 'lane': 5}, {'raceId': '20180620-14-02', 'goalRank': 5, 'lane': 2}, {'raceId': '20180619-14-08', 'goalRank': 1, 'lane': 1}, {'raceId': '20180619-14-03', 'goalRank': 3, 'lane': 5}, {'raceId': '20180618-14-07', 'goalRank': 3, 'lane': 6}, {'raceId': '20180618-14-01', 'goalRank': 5, 'lane': 3}, {'raceId': '20180617-14-05', 'goalRank': 1, 'lane': 2}, {'raceId': '20180610-16-06', 'goalRank': 3, 'lane': 4}, {'raceId': '20180609-16-07', 'goalRank': 4, 'lane': 2}, {'raceId': '20180609-16-01', 'goalRank': 2, 'lane': 5}, {'raceId': '20180608-16-03', 'goalRank': 1, 'lane': 1}, {'raceId': '20180607-16-06', 'goalRank': 6, 'lane': 5}, {'raceId': '20180607-16-02', 'goalRank': 4, 'lane': 4}, {'raceId': '20180606-16-05', 'goalRank': 5, 'lane': 3}, {'raceId': '20180605-16-10', 'goalRank': 4, 'lane': 6}, {'raceId': '20180605-16-01', 'goalRank': 5, 'lane': 2}, {'raceId': '20180529-23-08', 'goalRank': 2, 'lane': 2}, {'raceId': '20180529-23-04', 'goalRank': 6, 'lane': 6}, {'raceId': '20180528-23-04', 'goalRank': 2, 'lane': 2}, {'raceId': '20180527-23-06', 'goalRank': 4, 'lane': 1}, {'raceId': '20180527-23-02', 'goalRank': 5, 'lane': 5}, {'raceId': '20180526-23-05', 'goalRank': 5, 'lane': 6}, {'raceId': '20180526-23-01', 'goalRank': 3, 'lane': 3}, {'raceId': '20180525-23-03', 'goalRank': 3, 'lane': 4}, {'raceId': '20180514-02-08', 'goalRank': 4, 'lane': 3}, {'raceId': '20180514-02-02', 'goalRank': 6, 'lane': 6}, {'raceId': '20180513-02-06', 'goalRank': 5, 'lane': 4}, {'raceId': '20180513-02-03', 'goalRank': 1, 'lane': 1}, {'raceId': '20180512-02-08', 'goalRank': 4, 'lane': 5}, {'raceId': '20180512-02-01', 'goalRank': 3, 'lane': 4}, {'raceId': '20180511-02-02', 'goalRank': 6, 'lane': 3}, {'raceId': '20180510-02-04', 'goalRank': 4, 'lane': 2}, {'raceId': '20180501-18-01', 'goalRank': 5, 'lane': 3}, {'raceId': '20180430-18-02', 'goalRank': 4, 'lane': 2}, {'raceId': '20180429-18-10', 'goalRank': 4, 'lane': 3}, {'raceId': '20180429-18-05', 'goalRank': 5, 'lane': 6}, {'raceId': '20180428-18-08', 'goalRank': 5, 'lane': 2}, {'raceId': '20180428-18-03', 'goalRank': 4, 'lane': 4}, {'raceId': '20180427-18-01', 'goalRank': 3, 'lane': 6}, {'raceId': '20180426-18-06', 'goalRank': 6, 'lane': 1}, {'raceId': '20180409-06-06', 'goalRank': 2, 'lane': 1}, {'raceId': '20180409-06-01', 'goalRank': 6, 'lane': 4}, {'raceId': '20180408-06-10', 'goalRank': 4, 'lane': 5}, {'raceId': '20180408-06-02', 'goalRank': 2, 'lane': 3}, {'raceId': '20180407-06-08', 'goalRank': 5, 'lane': 6}, {'raceId': '20180406-06-08', 'goalRank': 4, 'lane': 2}, {'raceId': '20180406-06-01', 'goalRank': 2, 'lane': 4}, {'raceId': '20180318-10-04', 'goalRank': 4, 'lane': 3}, {'raceId': '20180317-10-08', 'goalRank': 6, 'lane': 4}, {'raceId': '20180317-10-01', 'goalRank': 6, 'lane': 2}, {'raceId': '20180316-10-07', 'goalRank': 5, 'lane': 6}, {'raceId': '20180315-10-05', 'goalRank': 5, 'lane': 4}, {'raceId': '20180315-10-01', 'goalRank': 5, 'lane': 2}, {'raceId': '20180314-10-09', 'goalRank': 5, 'lane': 1}, {'raceId': '20180313-10-10', 'goalRank': 5, 'lane': 3}, {'raceId': '20180313-10-02', 'goalRank': 5, 'lane': 5}, {'raceId': '20180308-16-08', 'goalRank': 4, 'lane': 3}, {'raceId': '20180308-16-01', 'goalRank': 5, 'lane': 4}, {'raceId': '20180307-16-04', 'goalRank': 6, 'lane': 4}, {'raceId': '20180306-16-07', 'goalRank': 1, 'lane': 1}, {'raceId': '20180306-16-01', 'goalRank': 6, 'lane': 5}, {'raceId': '20180305-16-07', 'goalRank': 3, 'lane': 3}, {'raceId': '20180305-16-01', 'goalRank': 5, 'lane': 6}, {'raceId': '20180304-16-05', 'goalRank': 3, 'lane': 2}, {'raceId': '20180225-01-08', 'goalRank': 4, 'lane': 2}, {'raceId': '20180224-01-12', 'goalRank': 6, 'lane': 6}, {'raceId': '20180224-01-04', 'goalRank': 6, 'lane': 3}, {'raceId': '20180223-01-02', 'goalRank': 1, 'lane': 1}, {'raceId': '20180222-01-09', 'goalRank': 6, 'lane': 5}, {'raceId': '20180222-01-02', 'goalRank': 2, 'lane': 3}, {'raceId': '20180221-01-06', 'goalRank': 5, 'lane': 4}, {'raceId': '20180201-13-06', 'goalRank': 3, 'lane': 3}, {'raceId': '20180131-13-06', 'goalRank': 4, 'lane': 4}, {'raceId': '20180130-13-05', 'goalRank': 6, 'lane': 3}, {'raceId': '20180130-13-01', 'goalRank': 5, 'lane': 6}, {'raceId': '20180129-13-05', 'goalRank': 3, 'lane': 1}, {'raceId': '20180128-13-10', 'goalRank': 6, 'lane': 4}, {'raceId': '20180128-13-04', 'goalRank': 4, 'lane': 2}, {'raceId': '20180127-13-09', 'goalRank': 3, 'lane': 5}, {'raceId': '20180114-04-08', 'goalRank': 3, 'lane': 2}, {'raceId': '20180114-04-01', 'goalRank': 3, 'lane': 1}, {'raceId': '20180113-04-06', 'goalRank': 4, 'lane': 3}, {'raceId': '20180112-04-07', 'goalRank': 6, 'lane': 4}, {'raceId': '20180112-04-01', 'goalRank': 6, 'lane': 5}, {'raceId': '20180111-04-08', 'goalRank': 1, 'lane': 3}, {'raceId': '20180111-04-02', 'goalRank': 4, 'lane': 2}, {'raceId': '20180105-21-09', 'goalRank': 2, 'lane': 4}, {'raceId': '20180105-21-04', 'goalRank': 5, 'lane': 5}, {'raceId': '20180104-21-09', 'goalRank': 5, 'lane': 5}, {'raceId': '20180104-21-02', 'goalRank': 5, 'lane': 6}, {'raceId': '20180103-21-04', 'goalRank': 6, 'lane': 2}, {'raceId': '20180102-21-10', 'goalRank': 3, 'lane': 5}, {'raceId': '20180102-21-01', 'goalRank': 5, 'lane': 2}, {'raceId': '20180101-21-07', 'goalRank': 5, 'lane': 4}]\n"
     ]
    }
   ],
   "source": [
    "with dbh.cursor() as cursor:\n",
    "    sel_sql = \"select tm.raceId,tr.goalRank,tr.lane from raceresult tr,racemanagement tm \\\n",
    "               where tr.toban = '4406' \\\n",
    "               and tm.raceDate between '%s' and '%s' \\\n",
    "               and tr.raceId = tm.raceId \\\n",
    "               order by tr.raceId desc\" \\\n",
    "                % (analyzeStartDate,analyzeEndDate)\n",
    "    cursor.execute(sel_sql)\n",
    "    List=cursor.fetchall()\n",
    "    #print(List)\n",
    "    "
   ]
  },
  {
   "cell_type": "code",
   "execution_count": null,
   "metadata": {},
   "outputs": [],
   "source": []
  }
 ],
 "metadata": {
  "kernelspec": {
   "display_name": "Python 3",
   "language": "python",
   "name": "python3"
  },
  "language_info": {
   "codemirror_mode": {
    "name": "ipython",
    "version": 3
   },
   "file_extension": ".py",
   "mimetype": "text/x-python",
   "name": "python",
   "nbconvert_exporter": "python",
   "pygments_lexer": "ipython3",
   "version": "3.6.8"
  }
 },
 "nbformat": 4,
 "nbformat_minor": 2
}
