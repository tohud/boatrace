{
 "cells": [
  {
   "cell_type": "code",
   "execution_count": 1,
   "metadata": {},
   "outputs": [],
   "source": [
    "# todo:同じ人で連対率はどのくらい変わるのかを可視化する。\n",
    "# todo:過去の連対率とその後の成績が実際に相関するのかを可視化する。\n",
    "# warn:いずれも、枠によってバイアスがかからないように注意する。"
   ]
  },
  {
   "cell_type": "code",
   "execution_count": 2,
   "metadata": {},
   "outputs": [],
   "source": [
    "# 汎用ライブラリのimport\n",
    "import sys\n",
    "import os\n",
    "from matplotlib import pyplot as plt\n",
    "import pandas as pd\n",
    "import numpy as np"
   ]
  },
  {
   "cell_type": "code",
   "execution_count": 3,
   "metadata": {},
   "outputs": [],
   "source": [
    "# 自作ライブラリのimport\n",
    "if os.environ['BR_HOME']+\"/boatrace\" not in sys.path:\n",
    "    sys.path.append(os.environ['BR_HOME']+\"/boatrace\")\n",
    "#print(sys.path)\n",
    "\n",
    "from setup.myUtil import dbHandler"
   ]
  },
  {
   "cell_type": "code",
   "execution_count": 4,
   "metadata": {},
   "outputs": [],
   "source": [
    "# 分析期間の指定は一旦ここでまとめてみる。\n",
    "analyzeStartDate=\"20180101\"\n",
    "analyzeEndDate=\"20180131\""
   ]
  },
  {
   "cell_type": "code",
   "execution_count": 5,
   "metadata": {},
   "outputs": [],
   "source": [
    "dbh=dbHandler.getDBHandle()"
   ]
  },
  {
   "cell_type": "code",
   "execution_count": 9,
   "metadata": {},
   "outputs": [
    {
     "name": "stdout",
     "output_type": "stream",
     "text": [
      "[{'raceId': '20180131-13-06', 'goalRank': 4, 'lane': 4}, {'raceId': '20180130-13-05', 'goalRank': 6, 'lane': 3}, {'raceId': '20180130-13-01', 'goalRank': 5, 'lane': 6}, {'raceId': '20180129-13-05', 'goalRank': 3, 'lane': 1}, {'raceId': '20180128-13-10', 'goalRank': 6, 'lane': 4}, {'raceId': '20180128-13-04', 'goalRank': 4, 'lane': 2}, {'raceId': '20180127-13-09', 'goalRank': 3, 'lane': 5}, {'raceId': '20180114-04-08', 'goalRank': 3, 'lane': 2}, {'raceId': '20180114-04-01', 'goalRank': 3, 'lane': 1}, {'raceId': '20180113-04-06', 'goalRank': 4, 'lane': 3}, {'raceId': '20180112-04-07', 'goalRank': 6, 'lane': 4}, {'raceId': '20180112-04-01', 'goalRank': 6, 'lane': 5}, {'raceId': '20180111-04-08', 'goalRank': 1, 'lane': 3}, {'raceId': '20180111-04-02', 'goalRank': 4, 'lane': 2}, {'raceId': '20180105-21-09', 'goalRank': 2, 'lane': 4}, {'raceId': '20180105-21-04', 'goalRank': 5, 'lane': 5}, {'raceId': '20180104-21-09', 'goalRank': 5, 'lane': 5}, {'raceId': '20180104-21-02', 'goalRank': 5, 'lane': 6}, {'raceId': '20180103-21-04', 'goalRank': 6, 'lane': 2}, {'raceId': '20180102-21-10', 'goalRank': 3, 'lane': 5}, {'raceId': '20180102-21-01', 'goalRank': 5, 'lane': 2}, {'raceId': '20180101-21-07', 'goalRank': 5, 'lane': 4}]\n"
     ]
    }
   ],
   "source": [
    "with dbh.cursor() as cursor:\n",
    "    sel_sql = \"select tm.raceId,tr.goalRank,tr.lane from raceresult tr,racemanagement tm \\\n",
    "               where tr.toban = '4406' \\\n",
    "               and tm.raceDate between '%s' and '%s' \\\n",
    "               and tr.raceId = tm.raceId \\\n",
    "               order by tr.raceId desc\" \\\n",
    "                % (analyzeStartDate,analyzeEndDate)\n",
    "    cursor.execute(sel_sql)\n",
    "    List=cursor.fetchall()\n",
    "    print(List)\n",
    "    "
   ]
  },
  {
   "cell_type": "code",
   "execution_count": null,
   "metadata": {},
   "outputs": [],
   "source": []
  }
 ],
 "metadata": {
  "kernelspec": {
   "display_name": "Python 3",
   "language": "python",
   "name": "python3"
  },
  "language_info": {
   "codemirror_mode": {
    "name": "ipython",
    "version": 3
   },
   "file_extension": ".py",
   "mimetype": "text/x-python",
   "name": "python",
   "nbconvert_exporter": "python",
   "pygments_lexer": "ipython3",
   "version": "3.6.8"
  }
 },
 "nbformat": 4,
 "nbformat_minor": 2
}
